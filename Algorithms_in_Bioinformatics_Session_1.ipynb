{
  "cells": [
    {
      "cell_type": "markdown",
      "metadata": {
        "id": "view-in-github",
        "colab_type": "text"
      },
      "source": [
        "<a href=\"https://colab.research.google.com/github/Alexander-Golovshchinskiy/Algorithms-In-Bioinformatics-Workshop-2025/blob/main/Algorithms_in_Bioinformatics_Session_1.ipynb\" target=\"_parent\"><img src=\"https://colab.research.google.com/assets/colab-badge.svg\" alt=\"Open In Colab\"/></a>"
      ]
    },
    {
      "cell_type": "markdown",
      "id": "ee480b76",
      "metadata": {
        "id": "ee480b76"
      },
      "source": [
        "\n",
        "# Where in the genome does the replication begin?\n",
        "\n",
        "\n",
        "\n"
      ]
    },
    {
      "cell_type": "markdown",
      "id": "9befd344",
      "metadata": {
        "id": "9befd344"
      },
      "source": [
        "### 0.1 - Let's Go Back in Time!\n",
        "\n",
        "Let’s travel back about 45 years, to a small molecular biology lab in the early 1980s.\n",
        "\n",
        "There are no genome browsers, no databases, no Python notebooks.\n",
        "Sequencing DNA means running radioactive gels by hand and reading faint black bands on X-ray film — one base at a time.\n",
        "\n",
        "Now imagine you’re one of those scientists.\n",
        "\n",
        "You’ve just isolated a small region of bacterial DNA that seems to let plasmids replicate on their own.\n",
        "You print the sequence on paper, spread it across the lab bench, and start looking for patterns.\n",
        "\n",
        "Suddenly, letter by letter, you mark repeated stretches — TTAT, TTAT, again and again.\n",
        "It feels like the DNA is trying to *tell you something*...\n"
      ]
    },
    {
      "cell_type": "markdown",
      "id": "8bafa3f8",
      "metadata": {
        "id": "8bafa3f8"
      },
      "source": [
        "\n",
        "### 0.2 - What's the crux?\n",
        "\n",
        "A bacterial chromosome (here we'll be analysing *Vibrio cholerae*) is over one million nucleotides long.\n",
        "\n",
        "Imagine we know from previous autoradiography experiments that replication starts at a single site — the origin of replication (oriC) — and proceeds in both directions. But can we find what the DNA signal for that origin looks like?..\n",
        "\n",
        "In other words,\n",
        "\n",
        "**How does the bacterial cell know to begin replication exactly in this short region within the much larger Vibrio cholerae chromosome, which consists of 1,108,250 nucleotides?**\n",
        "\n"
      ]
    },
    {
      "cell_type": "markdown",
      "id": "1e025cb3",
      "metadata": {
        "id": "1e025cb3"
      },
      "source": [
        "### 0.3 - Hidden Messages in DNA\n",
        "\n",
        "As we stated before, replication begins at a short, specific region called the **origin of replication (ori)**.\n",
        "\n",
        "One must say and one would be right, that there must be some “hidden message” in the ori region ordering the cell to begin replication exactly there.\n",
        "\n",
        "\n",
        "The question is how to find this hidden message without knowing what it looks like in advance?\n",
        "\n",
        " **In other words, can we find something that stands out in ori?**"
      ]
    },
    {
      "cell_type": "code",
      "source": [
        "# @title What kind of question are we asking?\n",
        "# @markdown _(Pick the most accurate description based on what you've read so far.)_\n",
        "Choice = \"We need to identify something unique about a specific region in DNA\"  # @param [\"We need to identify something unique about a specific region in DNA\", \"We need to alphabetically sort the DNA sequence\", \"We need to translate the DNA into protein\", \"We need to randomly pick a substring\"]\n",
        "if Choice == \"We need to identify something unique about a specific region in DNA\":\n",
        "    print(\"✅ Exactly — our challenge is to find what makes one small region (the origin of replication) stand out from the rest of the DNA.\")\n",
        "else:\n",
        "    print(\"❌ Not quite. We're not rearranging or translating DNA — we're trying to discover what makes one region different from all others.\")\n"
      ],
      "metadata": {
        "cellView": "form",
        "id": "73fW88ijoO9p",
        "outputId": "4b427fec-4319-4199-d58a-4e0553568299",
        "colab": {
          "base_uri": "https://localhost:8080/"
        }
      },
      "id": "73fW88ijoO9p",
      "execution_count": null,
      "outputs": [
        {
          "output_type": "stream",
          "name": "stdout",
          "text": [
            "✅ Exactly — our challenge is to find what makes one small region (the origin of replication) stand out from the rest of the DNA.\n"
          ]
        }
      ]
    },
    {
      "cell_type": "markdown",
      "id": "232bd8f8",
      "metadata": {
        "id": "232bd8f8"
      },
      "source": [
        "\n",
        "### 1.1 — The Hidden Message Problem\n",
        "\n",
        "As computational biologists, we shall treat DNA as a language like any other and ask: **Can we find a short substring (a “hidden message”) inside ori that stands out by appearing unusually often?**\n"
      ]
    },
    {
      "cell_type": "code",
      "source": [
        "# @title Is the \"Hidden Message Problem\" well-defined yet?\n",
        "# @markdown Based on the description below, decide whether this is already a fully defined computational problem or if something is missing.\n",
        "# @markdown\n",
        "# @markdown > **Hidden Message Problem:**\n",
        "# @markdown > - **Input:** a string `DNA` (DNA segment)\n",
        "# @markdown > - **Output:** A hidden message in `DNA`\n",
        "# @markdown\n",
        "# @markdown _(Select one answer and run the cell.)_\n",
        "\n",
        "choice = \"No, it's still vague — we haven't defined what 'hidden message' means\"  # @param [\"Yes, it's well-defined as written\", \"No, it's still vague — we haven't defined what 'hidden message' means\", \"Yes, because any string can have hidden messages\", \"No, because we haven't given an example DNA sequence\"]\n",
        "\n",
        "if choice == \"No, it's still vague — we haven't defined what 'hidden message' means\":\n",
        "    print(\"✅ Correct! We know what the input and output *look like*, but we haven’t specified the **rule** that decides which substring qualifies as a hidden message.\")\n",
        "    print(\"\\\\n👉 A problem becomes well-defined only once we define measurable criteria — for example, 'the substring that appears most frequently' or 'appears more often than expected by chance.'\")\n",
        "else:\n",
        "    print(\"❌ Not quite. Although we listed input and output, the problem isn’t yet well-defined — we haven’t formalized what counts as a 'hidden message.'\")\n"
      ],
      "metadata": {
        "cellView": "form",
        "id": "f-TDaTusommq"
      },
      "id": "f-TDaTusommq",
      "execution_count": null,
      "outputs": []
    },
    {
      "cell_type": "markdown",
      "id": "25499fd7",
      "metadata": {
        "id": "25499fd7"
      },
      "source": [
        "\n",
        "### 1.2 Stating a computational problem\n",
        "\n",
        "In otder to make it defined, we need to define what we measure.\n",
        "We can’t just tell a computer to “find the hidden message” without saying **what makes a message hidden**.\n",
        "\n",
        "If a short DNA word repeats **unusually often**, that might be the signal we’re looking for.\n",
        "\n",
        "So the first measurable idea we can define is **frequency**:\n",
        "> How many times does a given short sequence appear inside the DNA segment?\n",
        "\n",
        "Our counting function will be `PatternCount(DNA, pattern)`, it will count the number of times `pattern` appears as a substring of `DNA` (including overlapping occurrences).\n",
        "\n"
      ]
    },
    {
      "cell_type": "code",
      "source": [
        "# @title Predict the output of PatternCount\n",
        "# @markdown Recall that `PatternCount(DNA, pattern)` counts how many times `pattern` appears as a substring of `DNA`, including overlapping occurrences.\n",
        "# @markdown\n",
        "# @markdown **Example:**\n",
        "# @markdown `PatternCount(\"AAAA\", \"AA\")` = 3 (matches at positions 0, 1, 2)\n",
        "# @markdown\n",
        "# @markdown Now predict the result for a slightly trickier case:\n",
        "# @markdown\n",
        "# @markdown `PatternCount(\"ATATATA\", \"ATA\")` = ?\n",
        "# @markdown\n",
        "# @markdown _(Select your answer, then run the cell.)_\n",
        "\n",
        "choice = \"3\"  # @param [\"2\", \"3\", \"4\", \"5\"]\n",
        "\n",
        "if choice == \"3\":\n",
        "    print(\"✅ Correct! The matches start at positions 0, 2, and 4 — three overlapping occurrences in total.\")\n",
        "else:\n",
        "    print(\"❌ Not quite. Let's check: positions 0–2 → ATA, 2–4 → ATA, and 4–6 → ATA — that's 3 overlapping matches.\")\n"
      ],
      "metadata": {
        "cellView": "form",
        "id": "B8lMNEx8rZDt"
      },
      "id": "B8lMNEx8rZDt",
      "execution_count": null,
      "outputs": []
    },
    {
      "cell_type": "markdown",
      "id": "7a91e427",
      "metadata": {
        "id": "7a91e427"
      },
      "source": [
        "\n",
        "\n",
        "### 1.3 — Turning Ideas Into Algorithms\n",
        "\n",
        "So far, we’ve reasoned like scientists:  \n",
        "We decided that to find the “hidden message,” we need a way to **measure** how often each short sequence appears inside our DNA segment.\n",
        "\n",
        "Now we’ll start thinking like **computer scientists**:  \n",
        "we’ll describe *step-by-step* what the computer should do to perform that counting task.\n",
        "\n",
        "This is where **pseudocode** comes in — it’s a plain-language description of the algorithm we’ll later translate into Python.\n",
        "\n",
        "In pseudocode, our task looks like this:\n",
        "\n",
        "\n",
        "```\n",
        "PatternCount(DNA, pattern)\n",
        "    count ← 0\n",
        "    for i ← 0 to |DNA| − |pattern|\n",
        "        if DNA(i, |pattern|) = pattern\n",
        "            count ← count + 1\n",
        "    return count\n",
        "```\n",
        "\n",
        "If you're comfortable implementing this in Python, jump ahead to **Experienced Track** below.\n",
        "\n",
        "If pseudocode looks confusing, continue to the **Beginner Track** which is the next block.\n",
        "\n",
        "Remember, you can always ask any question if you feel stuck.\n",
        "\n",
        "Most importantly, make sure you enjoy the process and have fun!\n",
        "\n",
        "# Instructions:\n",
        "\n",
        "1) Run the next cell once to activate the checking system (no need to read its code).\n",
        "\n",
        "2) For each exercise, follow the directions shown on the right — then complete the code where you see the # TODO comment. Do NOT change the code of the first two lines - those are to set title and instructions.\n",
        "\n",
        "3) After completing the exercise, run the next cell to check how you've done! Again, no need to read its code."
      ]
    },
    {
      "cell_type": "code",
      "source": [
        "# @title (Run once) Helpers + Scoring\n",
        "from typing import Any, Callable\n",
        "\n",
        "# Global score & solved-tracking dict\n",
        "if \"SCORE\" not in globals():\n",
        "    SCORE = 0\n",
        "if \"SOLVED\" not in globals():\n",
        "    SOLVED = {}\n",
        "\n",
        "class CheckError(AssertionError):\n",
        "    pass\n",
        "\n",
        "def check_equal(name: str, got: Any, expected: Any):\n",
        "    if got != expected:\n",
        "        raise CheckError(f\"{name} incorrect.\\n  got      = {got!r}\\n  expected = {expected!r}\")\n",
        "\n",
        "def check_bool(name: str, cond: bool, msg_if_fail: str):\n",
        "    if not cond:\n",
        "        raise CheckError(f\"{name} failed.\\n  {msg_if_fail}\")\n",
        "\n",
        "def run_checks(block: Callable[[], None]) -> bool:\n",
        "    try:\n",
        "        block()\n",
        "    except CheckError as e:\n",
        "        print(\"❌\", e)\n",
        "        return False\n",
        "    except Exception as e:\n",
        "        print(\"❌ Unhandled error while checking:\", type(e).__name__, e)\n",
        "        return False\n",
        "    else:\n",
        "        print(\"✅ All checks passed!\")\n",
        "        return True\n",
        "\n",
        "def credit(exercise: str, ok: bool, pts: int = 1):\n",
        "    \"\"\"Grant credit once per exercise if newly solved.\"\"\"\n",
        "    global SCORE\n",
        "    if ok and not SOLVED.get(exercise, False):\n",
        "        SCORE += pts\n",
        "        SOLVED[exercise] = True\n",
        "        print(f\"🏅 First time solved: +{pts} point(s). Total score = {SCORE}\")\n",
        "    elif ok and SOLVED.get(exercise, False):\n",
        "        print(f\"ℹ️ Already solved earlier. Score = {SCORE}\")\n",
        "    else:\n",
        "        print(f\"❌ Not yet solved. Score = {SCORE}\")\n"
      ],
      "metadata": {
        "cellView": "form",
        "id": "5QzmnBD8toVI"
      },
      "id": "5QzmnBD8toVI",
      "execution_count": null,
      "outputs": []
    },
    {
      "cell_type": "markdown",
      "id": "24d5dc6e",
      "metadata": {
        "id": "24d5dc6e"
      },
      "source": [
        "# Beginner Track\n",
        "\n",
        "**Note:** we're assuming that you've completed sections 'String basics' and 'Variables' at https://futurecoder.io/course/#toc. You might find researching what Python function `len()` does helpful."
      ]
    },
    {
      "cell_type": "code",
      "source": [
        "# @title What does the built-in function `len()` do in Python?\n",
        "# @markdown _(Pick the most accurate answer, then run the cell.)_\n",
        "\n",
        "choice = \"It returns the number of items in a sequence or collection\"  # @param [\"It converts a string to lowercase\", \"It counts how many times a letter appears\", \"It returns the number of items in a sequence or collection\", \"It generates a random number\"]\n",
        "\n",
        "if choice == \"It returns the number of items in a sequence or collection\":\n",
        "    print(\"✅ Correct! `len()` returns the number of elements in a sequence — for example, the number of characters in a string.\")\n",
        "else:\n",
        "    print(\"❌ Not quite. `len()` doesn’t look for specific letters or change case; it tells you **how long** the object is — e.g., how many characters are in a string.\")\n"
      ],
      "metadata": {
        "cellView": "form",
        "id": "Z-WNIpfHkPRv"
      },
      "id": "Z-WNIpfHkPRv",
      "execution_count": null,
      "outputs": []
    },
    {
      "cell_type": "code",
      "execution_count": null,
      "id": "56c6f410",
      "metadata": {
        "id": "56c6f410",
        "outputId": "33655812-e7ec-4c37-9b70-1461aa5b3e85",
        "colab": {
          "base_uri": "https://localhost:8080/"
        }
      },
      "outputs": [
        {
          "output_type": "stream",
          "name": "stdout",
          "text": [
            "\n"
          ]
        }
      ],
      "source": [
        "# @title Exercise 1 - Length of the DNA string (Student cell)\n",
        "# @markdown Set `dna_length` to the length of DNA, then print it.\n",
        "\n",
        "DNA = \"ATCAATATTTGCGGATCGATTGGGCCATATGTGGCGTCGTGTATATCGATCGATCGACTGACT\"\n",
        "\n",
        "# TODO: Replace ... with the correct expressions\n",
        "dna_length = ...   # e.g., len(DNA)\n",
        "\n",
        "# show it\n",
        "print()\n"
      ]
    },
    {
      "cell_type": "code",
      "source": [
        "# @title Check: Exercise 1 — DNA length\n",
        "def _check_e1():\n",
        "    check_bool(\"dna_length exists\", \"dna_length\" in globals(),\n",
        "               \"Please define a variable named `dna_length`.\")\n",
        "    check_bool(\"dna_length is int\", isinstance(dna_length, int),\n",
        "               f\"`dna_length` must be an int, got {type(dna_length).__name__}.\")\n",
        "    expected = len(DNA)\n",
        "    check_equal(\"dna_length\", dna_length, expected)\n",
        "\n",
        "ok = run_checks(_check_e1)\n",
        "credit(\"Exercise 1\", ok, pts=1)\n"
      ],
      "metadata": {
        "cellView": "form",
        "id": "phCcjUMTuArB",
        "outputId": "6ddc3ca8-6124-44ba-ceb5-82fcc5bd9160",
        "colab": {
          "base_uri": "https://localhost:8080/"
        }
      },
      "id": "phCcjUMTuArB",
      "execution_count": null,
      "outputs": [
        {
          "output_type": "stream",
          "name": "stdout",
          "text": [
            "✅ All checks passed!\n",
            "ℹ️ Already solved earlier. Score = 1\n"
          ]
        }
      ]
    },
    {
      "cell_type": "markdown",
      "source": [
        "## Exercise 2 — Indexing & Slicing\n",
        "\n",
        "Fill the variables using Python indexing/slicing on `DNA`. Then print them.\n"
      ],
      "metadata": {
        "id": "O6EU8LQEFXcG"
      },
      "id": "O6EU8LQEFXcG"
    },
    {
      "cell_type": "code",
      "execution_count": null,
      "id": "c876968f",
      "metadata": {
        "id": "c876968f"
      },
      "outputs": [],
      "source": [
        "# Use the same DNA from Exercise 1 (assumed to be defined)\n",
        "# TODO:\n",
        "\n",
        "first_char   = DNA[0]\n",
        "last_char    = ...\n",
        "first_three  = ...\n",
        "last_three   = ...\n",
        "\n",
        "print()\n",
        "print()\n",
        "print()\n",
        "print()"
      ]
    },
    {
      "cell_type": "code",
      "source": [
        "# @title Check: Exercise 2\n",
        "def _check_e2():\n",
        "    check_bool(\"first_char\", \"first_char\" in globals(), \"Define first_char\")\n",
        "    check_bool(\"last_char\", \"last_char\" in globals(), \"Define last_char\")\n",
        "    check_bool(\"first_three\", \"first_three\" in globals(), \"Define first_three\")\n",
        "    check_bool(\"last_three\", \"last_three\" in globals(), \"Define last_three\")\n",
        "\n",
        "    check_equal(\"first_char\", first_char, DNA[0])\n",
        "    check_equal(\"last_char\",  last_char,  DNA[-1])\n",
        "    check_equal(\"first_three\", first_three, DNA[:3])\n",
        "    check_equal(\"last_three\",  last_three, DNA[-3:])\n",
        "ok = run_checks(_check_e2)\n",
        "credit(\"Exercise 2\", ok, pts=1)\n"
      ],
      "metadata": {
        "cellView": "form",
        "id": "2hWEtLxSmPKz",
        "outputId": "670f5973-0902-4dd9-fc80-3007060622a0",
        "colab": {
          "base_uri": "https://localhost:8080/"
        }
      },
      "id": "2hWEtLxSmPKz",
      "execution_count": null,
      "outputs": [
        {
          "output_type": "stream",
          "name": "stdout",
          "text": [
            "❌ last_char incorrect.\n",
            "  got      = Ellipsis\n",
            "  expected = 'C'\n",
            "❌ Not yet solved. Score = 1\n"
          ]
        }
      ]
    },
    {
      "cell_type": "code",
      "source": [
        "# @title How long is DNA[i:i+k] assuming 0 ≤ i ≤ n-k?\n",
        "choice = \"Exactly k\"  # @param [\"Exactly k\", \"At most k\", \"Depends\", \"Undefined\"]\n",
        "print(\"✅ Correct.\" if choice==\"Exactly k\" else \"❌ End-exclusive slicing yields length k.\")\n"
      ],
      "metadata": {
        "cellView": "form",
        "id": "2jL_7GlNmYos",
        "outputId": "ab77047b-befe-4bab-96a9-baa898a46307",
        "colab": {
          "base_uri": "https://localhost:8080/"
        }
      },
      "id": "2jL_7GlNmYos",
      "execution_count": null,
      "outputs": [
        {
          "output_type": "stream",
          "name": "stdout",
          "text": [
            "✅ Correct.\n"
          ]
        }
      ]
    },
    {
      "cell_type": "code",
      "source": [
        "# @title Exercise 3 — Slice by (i, k)\n",
        "# @markdown Set `i` and `k`, then produce the slice `window`.\n",
        "\n",
        "i = 5    # @param {type:\"number\"}\n",
        "k = 9    # @param {type:\"number\"}\n",
        "\n",
        "#TODO\n",
        "window = ...   # e.g., DNA[i:i+k]\n",
        "\n",
        "print(window)"
      ],
      "metadata": {
        "id": "DynvGBklmeha",
        "outputId": "fceeb789-b72b-4fa3-c9e1-a7918806068d",
        "colab": {
          "base_uri": "https://localhost:8080/"
        }
      },
      "id": "DynvGBklmeha",
      "execution_count": null,
      "outputs": [
        {
          "output_type": "stream",
          "name": "stdout",
          "text": [
            "Ellipsis\n"
          ]
        }
      ]
    },
    {
      "cell_type": "code",
      "source": [
        "# @title Check: Exercise 3\n",
        "def _check_e3():\n",
        "    check_bool(\"window\", \"window\" in globals(), \"Define `window`.\")\n",
        "    check_equal(\"window\", window, DNA[i:i+k])\n",
        "ok = run_checks(_check_e3)\n",
        "credit(\"Exercise 3\", ok, pts=1)\n"
      ],
      "metadata": {
        "cellView": "form",
        "id": "Gym_-_Zzmm4R",
        "outputId": "2d424490-9135-4ac2-e5a3-b7a4ca2ece57",
        "colab": {
          "base_uri": "https://localhost:8080/"
        }
      },
      "id": "Gym_-_Zzmm4R",
      "execution_count": null,
      "outputs": [
        {
          "output_type": "stream",
          "name": "stdout",
          "text": [
            "❌ window incorrect.\n",
            "  got      = Ellipsis\n",
            "  expected = 'TATTTGCGG'\n",
            "❌ Not yet solved. Score = 0\n"
          ]
        }
      ]
    },
    {
      "cell_type": "code",
      "source": [
        "# @title What's the last valid start index?\n",
        "# @markdown Assume `pattern` length `k` is 10, and `DNA` length `n` is 1000.\n",
        "# @markdown For a window `DNA[i:i+k]`, what is the **last** valid `i` so the slice stays inside the string?\n",
        "# @markdown _(Pick one, then run the cell.)_\n",
        "# @markdown\n",
        "# @markdown Remember about 0-based indexing in Python!\n",
        "\n",
        "# Use the current DNA automatically (if defined)\n",
        "n = len(DNA) if \"DNA\" in globals() else 20  # fallback demo value\n",
        "\n",
        "choice = \"989\"  # @param [\"991\", \"989\", \"990\"]\n",
        "\n",
        "if choice == \"990\":\n",
        "    print(f\"✅ Correct. With n={n} and k={k}, the last valid start i is n-k = {n-k}.\")\n",
        "    print(\"Reason: i+k must be ≤ n → i ≤ n-k = 990.\")\n",
        "else:\n",
        "    print(\"❌ Not quite.\")\n",
        "    print(\"For DNA[i:i+k] to fit, we need i+k ≤ n → i ≤ n-k. What is n-k in this case?\")\n"
      ],
      "metadata": {
        "cellView": "form",
        "id": "oyM3hhl7nj-I",
        "outputId": "61e6853e-05bb-498b-9573-937653b406fd",
        "colab": {
          "base_uri": "https://localhost:8080/"
        }
      },
      "id": "oyM3hhl7nj-I",
      "execution_count": null,
      "outputs": [
        {
          "output_type": "stream",
          "name": "stdout",
          "text": [
            "❌ Not quite.\n",
            "Python slices are end-exclusive. For DNA[i:i+k] to fit, we need i+k ≤ n → i ≤ n-k. What is n-k in this case?\n"
          ]
        }
      ]
    },
    {
      "cell_type": "markdown",
      "source": [
        "## Exercise 4 - Check if pattern matches the string\n",
        "\n",
        "We've defined `pattern = \"ATA\"` with its length `k` and some start index `i`.\n",
        "\n",
        "Your goal is to complete the `if` statement in order to check if pattern matches `DNA[i:i+k]` at that start index."
      ],
      "metadata": {
        "id": "q79KuRYY_x-P"
      },
      "id": "q79KuRYY_x-P"
    },
    {
      "cell_type": "code",
      "source": [
        "pattern = \"ATA\"\n",
        "k = len(pattern)\n",
        "i = 7\n",
        "\n",
        "#TODO\n",
        "if ...:\n",
        "  print(\"True\")\n",
        "else:\n",
        "  print(\"False\")\n",
        "\n"
      ],
      "metadata": {
        "id": "bGJzu9P9oYAl",
        "outputId": "bb5ee8ad-ed98-40a6-efa1-7652fbffc307",
        "colab": {
          "base_uri": "https://localhost:8080/"
        }
      },
      "id": "bGJzu9P9oYAl",
      "execution_count": null,
      "outputs": [
        {
          "output_type": "execute_result",
          "data": {
            "text/plain": [
              "79"
            ]
          },
          "metadata": {},
          "execution_count": 19
        }
      ]
    },
    {
      "cell_type": "code",
      "source": [
        "# @title Check: Exercise 4 — First occurrence\n",
        "def _check_e4():\n",
        "    # Ensure DNA and pattern exist\n",
        "    check_bool(\"DNA\", \"DNA\" in globals(), \"Please make sure `DNA` is defined.\")\n",
        "    check_bool(\"pattern\", \"pattern\" in globals(), \"Please make sure `pattern` is defined.\")\n",
        "\n",
        "    # Capture the student’s output safely\n",
        "    try:\n",
        "        student_result = DNA.find(pattern)\n",
        "    except Exception as e:\n",
        "        raise CheckError(f\"Error while calling DNA.find(pattern): {e}\")\n",
        "\n",
        "    # Compute expected result independently\n",
        "    expected = DNA.find(pattern)\n",
        "\n",
        "    check_equal(\"first occurrence index\", student_result, expected)\n",
        "\n",
        "ok = run_checks(_check_e4)\n",
        "credit(\"Exercise 4\", ok, pts=1)\n"
      ],
      "metadata": {
        "cellView": "form",
        "id": "rdqiEhZTsbjo",
        "outputId": "5bc7a8d4-b5d5-4ca6-fbfb-670d8af99ea4",
        "colab": {
          "base_uri": "https://localhost:8080/"
        }
      },
      "id": "rdqiEhZTsbjo",
      "execution_count": null,
      "outputs": [
        {
          "output_type": "stream",
          "name": "stdout",
          "text": [
            "✅ All checks passed!\n",
            "🏅 First time solved: +1 point(s). Total score = 3\n"
          ]
        }
      ]
    },
    {
      "cell_type": "code",
      "source": [
        "# @title What's the correct `range()` limit?\n",
        "# @markdown We know the **last valid start index** is `i = n - k`.\n",
        "# @markdown\n",
        "# @markdown If we want to loop through *all* valid starting indices using `range()`,\n",
        "# @markdown what should be the **upper limit** of that `range()` (it's `stop`)?\n",
        "# @markdown\n",
        "# @markdown _(Pick one, then run the cell.)_\n",
        "# @markdown\n",
        "# @markdown **Hint:** Python’s `range(start, stop)` is **end-exclusive**,\n",
        "# @markdown so it goes **up to but not including** the value of `stop`.\n",
        "\n",
        "choice = \"n-k+1\"  # @param [\"n-k+1\", \"n-k\", \"n-k-1\"]\n",
        "\n",
        "if choice == \"n-k+1\":\n",
        "    print(f\"✅ Correct! The last valid start index is n - k = {n - k}.\")\n",
        "    print(f\"So to include i = {n - k} in the loop, the upper limit must be n - k + 1 = {n - k + 1}.\")\n",
        "    print()\n",
        "    print(\"Example:\")\n",
        "    print(\"for i in range(n - k + 1):\")\n",
        "    print(\"    window = DNA[i:i+k]\")\n",
        "    print(\"    # This goes through all valid windows, from i=0 to i=990.\")\n",
        "elif choice == \"n-k\":\n",
        "    print(\"❌ Almost there!\")\n",
        "    print(\"If you use range(n - k), the loop will stop at i = n - k - 1, missing the final valid window.\")\n",
        "    print(\"Remember, range() stops *before* its upper limit.\")\n",
        "else:\n",
        "    print(\"❌ Not quite.\")\n",
        "    print(\"That range would stop far too early, skipping the last few valid windows.\")\n",
        "    print(\"We need the upper limit to be n - k + 1 so that the loop includes i = n - k.\")\n"
      ],
      "metadata": {
        "cellView": "form",
        "id": "MMgrEnASCLm9"
      },
      "id": "MMgrEnASCLm9",
      "execution_count": null,
      "outputs": []
    },
    {
      "cell_type": "markdown",
      "source": [
        "## Exercise 5 — Count all occurences of pattern\n",
        "\n",
        "\n",
        "We've defined `pattern = \"ATA\"` below.\n",
        "\n",
        "Build a list of indices where DNA[i:i+k] == pattern (overlaps allowed).\n",
        "\n",
        "For that, you'll need to complete the `for` loop range. Remember, `range` is end-exclusive!"
      ],
      "metadata": {
        "id": "27KB_Djl_PaL"
      },
      "id": "27KB_Djl_PaL"
    },
    {
      "cell_type": "code",
      "source": [
        "pattern = \"ATA\"\n",
        "k = len(pattern)\n",
        "\n",
        "count = 0\n",
        "\n",
        "# TODO: loop over all valid i and append hits\n",
        "for i in range(...):\n",
        "    if pattern == [DNA[i:i+k]]:\n",
        "        count += 1\n",
        "\n",
        "print(count)"
      ],
      "metadata": {
        "id": "sNLIwS1MtMq0"
      },
      "id": "sNLIwS1MtMq0",
      "execution_count": null,
      "outputs": []
    },
    {
      "cell_type": "code",
      "source": [
        "# @title Check: Exercise 5\n",
        "def _check_e5():\n",
        "    # Recompute truth\n",
        "    truth = []\n",
        "    if k > 0:\n",
        "        for j in range(0, len(DNA)-k+1):\n",
        "            if DNA[j:j+k] == pattern:\n",
        "                truth.append(j)\n",
        "    check_equal(\"match_indices\", match_indices, truth)\n",
        "ok = run_checks(_check_e5)\n",
        "credit(\"Exercise 5\", ok, pts=2)\n"
      ],
      "metadata": {
        "cellView": "form",
        "id": "Mqsr4NcntR0C"
      },
      "id": "Mqsr4NcntR0C",
      "execution_count": null,
      "outputs": []
    },
    {
      "cell_type": "markdown",
      "source": [
        "## Implement PatternCount\n",
        "\n",
        "We're now ready to implement our Counting function!\n",
        "\n",
        "Complete the for loop and if condition in order to have a function that takes in any `DNA` string and `pattern` and finds number of occurences of `pattern` in it."
      ],
      "metadata": {
        "id": "Kmph1mvl-7uC"
      },
      "id": "Kmph1mvl-7uC"
    },
    {
      "cell_type": "code",
      "source": [
        "def PatternCount(DNA, pattern):\n",
        "    # TODO: implement using the ideas above\n",
        "    count = 0\n",
        "    n, k = len(DNA), len(pattern)\n",
        "    for i in range(...):\n",
        "        if ...:\n",
        "            count += 1\n",
        "    return count\n"
      ],
      "metadata": {
        "id": "XUSGwkrjwJfb"
      },
      "id": "XUSGwkrjwJfb",
      "execution_count": null,
      "outputs": []
    },
    {
      "cell_type": "code",
      "source": [
        "# @title Check: Exercise 8 — PatternCount\n",
        "def _check_e8():\n",
        "    tests = [\n",
        "        (\"AAAA\", \"AA\", 3),\n",
        "        (\"ATATATA\", \"ATA\", 3),\n",
        "        (\"banana\", \"ana\", 1),\n",
        "        (\"mississippi\", \"issi\", 1),\n",
        "        (\"\", \"A\", 0),\n",
        "        (\"ACGT\", \"\", 0),\n",
        "        (\"ACACTGACACTG\", \"ACT\", 4),\n",
        "    ]\n",
        "    for dna, pat, want in tests:\n",
        "        got = PatternCount(dna, pat)\n",
        "        check_equal(f\"PatternCount({dna!r}, {pat!r})\", got, want)\n",
        "ok = run_checks(_check_e8)\n",
        "credit(\"Exercise 8\", ok, pts=3)\n"
      ],
      "metadata": {
        "cellView": "form",
        "id": "gArhnNOow3fv",
        "outputId": "f22ac83d-4928-402d-eeff-9c3ec33cbfc8",
        "colab": {
          "base_uri": "https://localhost:8080/"
        }
      },
      "id": "gArhnNOow3fv",
      "execution_count": null,
      "outputs": [
        {
          "output_type": "stream",
          "name": "stdout",
          "text": [
            "❌ PatternCount('banana', 'ana') incorrect.\n",
            "  got      = 2\n",
            "  expected = 1\n",
            "❌ Not yet solved. Score = 3\n"
          ]
        }
      ]
    },
    {
      "cell_type": "markdown",
      "id": "97a1a439",
      "metadata": {
        "id": "97a1a439"
      },
      "source": [
        "\n",
        "\n",
        "# Experienced Track\n",
        "\n",
        "### Exercise 1\n",
        "\n",
        "Implement the function `PatternCount` below using pseudocode provided:\n",
        "\n",
        "```\n",
        "PatternCount(DNA, pattern)\n",
        "    count ← 0\n",
        "    for i ← 0 to |DNA| − |pattern|\n",
        "        if DNA(i, |pattern|) = pattern\n",
        "            count ← count + 1\n",
        "    return count\n",
        "```\n"
      ]
    },
    {
      "cell_type": "code",
      "source": [
        "# @title What does PatternCount do? 🧬\n",
        "# @markdown In the pseudocode below:\n",
        "# @markdown\n",
        "# @markdown ```\n",
        "# @markdown PatternCount(DNA, pattern)\n",
        "# @markdown     count ← 0\n",
        "# @markdown     for i ← 0 to |DNA| − |pattern|\n",
        "# @markdown         if DNA(i, |pattern|) = pattern\n",
        "# @markdown             count ← count + 1\n",
        "# @markdown     return count\n",
        "# @markdown ```\n",
        "# @markdown What does this algorithm compute?\n",
        "\n",
        "choice = \"Counts how many times `pattern` appears in `DNA`\"  # @param [\"Counts how many times `pattern` appears in `DNA`\", \"Finds the longest pattern in DNA\", \"Finds first occurrence of pattern only\"]\n",
        "\n",
        "if choice == \"Counts how many times `pattern` appears in `DNA`\":\n",
        "    print(\"✅ Correct! It slides a window of length |pattern| across DNA and counts matches.\")\n",
        "else:\n",
        "    print(\"❌ Not quite. It doesn’t search just once — it checks every window and counts all matches.\")\n"
      ],
      "metadata": {
        "cellView": "form",
        "id": "hueM3sXPEwmG"
      },
      "id": "hueM3sXPEwmG",
      "execution_count": null,
      "outputs": []
    },
    {
      "cell_type": "markdown",
      "source": [
        "## Exercise 1 — Implement PatternCount\n",
        "\n",
        "Fill in the code so that it counts how many times `pattern` occurs in `DNA`."
      ],
      "metadata": {
        "id": "tFfbOdrGE13F"
      },
      "id": "tFfbOdrGE13F"
    },
    {
      "cell_type": "code",
      "execution_count": null,
      "id": "664ae557",
      "metadata": {
        "id": "664ae557"
      },
      "outputs": [],
      "source": [
        "def PatternCount(DNA, pattern):\n",
        "    count = 0\n",
        "    k = len(pattern)\n",
        "    n = len(DNA)\n",
        "    for i in range(...):\n",
        "        if ...:\n",
        "            count += 1\n",
        "    return count\n",
        "\n"
      ]
    },
    {
      "cell_type": "code",
      "source": [
        "# @title Check Your Implementation\n",
        "DNA = 'GCGCG'\n",
        "pattern = 'GCG'\n",
        "assert PatternCount(DNA, pattern) == 2, \"Test 1 failed\"\n",
        "DNA = 'ATCCGATCCCATGCCCATG'\n",
        "pattern = 'CC'\n",
        "assert PatternCount(DNA, pattern) == 5, \"Test 2 failed\"\n",
        "print(\"🎉 All tests passed — PatternCount works correctly!\")"
      ],
      "metadata": {
        "id": "fHi6hCwJFBHo"
      },
      "id": "fHi6hCwJFBHo",
      "execution_count": null,
      "outputs": []
    },
    {
      "cell_type": "markdown",
      "id": "63fd6960",
      "metadata": {
        "id": "63fd6960"
      },
      "source": [
        "\n",
        "### From Pattern Counting to Most Frequent Patterns\n",
        "\n",
        "The next natural step would be to use our counting function to find **most frequent** k-mers in a DNA string.\n",
        "\n",
        "We say that pattern is a most frequent k-mer in DNA if it **maximizes** Count(DNA, pattern) among all k-mers. You can see that ACTAT is a most frequent 5-mer of ACA**ACTAT**GCAT**ACTAT**CGGGA**ACTAT**CCT, and ATA is a most frequent 3-mer of CG**ATATA**TCC**ATA**G.\n"
      ]
    },
    {
      "cell_type": "code",
      "source": [
        "# @title  Can a string have multiple most frequent k-mers?\n",
        "# @markdown Suppose we’re counting all k-length substrings (k-mers) in a DNA string.\n",
        "# @markdown If two or more distinct k-mers occur the same maximum number of times,\n",
        "# @markdown what happens?\n",
        "# @markdown\n",
        "# @markdown _(Pick the statement that best describes the situation.)_\n",
        "\n",
        "choice = \"Yes, multiple k-mers can tie for the maximum count\"  # @param [\"No, there can be only one most frequent k-mer\", \"Yes, multiple k-mers can tie for the maximum count\", \"It depends on whether k divides the length of DNA\"]\n",
        "\n",
        "if choice == \"Yes, multiple k-mers can tie for the maximum count\":\n",
        "    print(\"✅ Correct! A string can absolutely have **multiple most frequent k-mers** — they simply share the same highest frequency.\")\n",
        "    print(\"For example, in DNA = 'ATATCGCG', with k = 2, both 'AT' and 'CG' might appear twice.\")\n",
        "else:\n",
        "    print(\"❌ Not quite.\")\n",
        "    print(\"The 'most frequent' k-mer set can contain more than one pattern — any k-mers that occur the maximum number of times are all considered 'most frequent.'\")\n"
      ],
      "metadata": {
        "cellView": "form",
        "id": "wNFOkE5wGFxA"
      },
      "id": "wNFOkE5wGFxA",
      "execution_count": null,
      "outputs": []
    },
    {
      "cell_type": "markdown",
      "id": "1f2bc7b6",
      "metadata": {
        "id": "1f2bc7b6"
      },
      "source": [
        "A straightforward algorithm for finding the most frequent k-mers in a string DNA checks all k-mers appearing in this string (there are `|DNA| − k + 1` such k-mers) and then computes how many times each k-mer appears in DNA. To implement this algorithm, called FrequentWords, we will need to generate an array `Count`, where `Count(i)` stores `Count(DNA, pattern)`\n",
        "for `pattern = DNA(i, k)` (see figure below).\n",
        "\n",
        "![FrequentWords.png](data:image/png;base64,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)"
      ]
    },
    {
      "cell_type": "code",
      "source": [
        "# @title ⚙️ Algorithm Efficiency Check — How many passes through DNA?\n",
        "# @markdown Consider the naive FrequentWords algorithm:\n",
        "# @markdown\n",
        "# @markdown - It slides a window across the DNA string.\n",
        "# @markdown - For each window (each k-mer), it calls `PatternCount`,\n",
        "# @markdown   which itself scans the **entire DNA** to count occurrences.\n",
        "# @markdown\n",
        "# @markdown How many total passes through the DNA does this algorithm require?\n",
        "\n",
        "choice = \"About n passes (one for each window)\"  # @param [\"1 pass total\", \"About n passes (one for each window)\", \"k passes total\"]\n",
        "\n",
        "if choice == \"About n passes (one for each window)\":\n",
        "    print(\"✅ Correct! The outer loop slides through roughly n windows, and each call to PatternCount scans the whole DNA.\")\n",
        "    print(\"That means the total work is proportional to n × n = O(n²), making this algorithm inefficient for long DNA strings.\")\n",
        "else:\n",
        "    print(\"❌ Not quite.\")\n",
        "    print(\"Remember: each PatternCount call performs a *full scan* of the DNA. Since we call it once per window, we effectively do about n total passes, i.e. O(n²) work.\")\n"
      ],
      "metadata": {
        "cellView": "form",
        "id": "hHle3GmHGbDw"
      },
      "id": "hHle3GmHGbDw",
      "execution_count": null,
      "outputs": []
    },
    {
      "cell_type": "markdown",
      "id": "925ff188",
      "metadata": {
        "id": "925ff188"
      },
      "source": [
        "If you were to solve the Frequent Words Problem by hand for a small example, you would probably form a table like the one in the figure below for `DNA` equal to \"ACGTTTCACGTTTTACGG\" and `k` equal to 3. You would slide a length-k window, and if the current k-mer substring of text does not occur in the table, then you would create a new entry for it. Otherwise, you would add 1 to the entry corresponding to the current k-mer substring of `DNA`. We call this table the **frequency table** for Text and k.\n",
        "\n",
        "![FasterFrequentWords.jpg](data:image/jpeg;base64,/9j/4QC8RXhpZgAASUkqAAgAAAAGABIBAwABAAAAAQAAABoBBQABAAAAVgAAABsBBQABAAAAXgAAACgBAwABAAAAAgAAABMCAwABAAAAAQAAAGmHBAABAAAAZgAAAAAAAABIAAAAAQAAAEgAAAABAAAABgAAkAcABAAAADAyMTABkQcABAAAAAECAwAAoAcABAAAADAxMDABoAMAAQAAAP//AAACoAQAAQAAAFEIAAADoAQAAQAAADgBAAAAAAAA/9sAQwAGBgYGBwYHCAgHCgsKCwoPDgwMDg8WEBEQERAWIhUZFRUZFSIeJB4cHiQeNiomJio2PjQyND5MRERMX1pffHyn/9sAQwEGBgYGBwYHCAgHCgsKCwoPDgwMDg8WEBEQERAWIhUZFRUZFSIeJB4cHiQeNiomJio2PjQyND5MRERMX1pffHyn/8AAEQgBOAhRAwEiAAIRAQMRAf/EAB0AAQEBAAIDAQEAAAAAAAAAAAAIBwUGAwQJAQL/xABbEAABAgMDAw0MBgcGAwgDAQEAAQIDBAUGBxESF5IIFhghNlJVc5OUs9HSEyIxN0FRVnF0dbLTFDVhgbG0FTI0OHKRoSNCVGJ2omOEwiQmQ1NlgsHDJzNE8KP/xAAUAQEAAAAAAAAAAAAAAAAAAAAA/8QAFBEBAAAAAAAAAAAAAAAAAAAAAP/aAAwDAQACEQMRAD8AqkEk39x6w22lAl5KoR4CTEjDY1rIr2NR6xnJlLk+tNs8mZq9v0zhc9muwBWQJNzNXt+mcLns12Bmavb9M4XPZrsAVkCTczV7fpnC57NdgZmr2/TOFz2a7AFZAk3M1e36ZwuezXYGZq9v0zhc9muwBWQJNzNXt+mcLns12Bmavb9M4XPZrsAVkCTczV7fpnC57NdgZmr2/TOFz2a7AFZAk3M1e36ZwuezXYGZq9v0zhc9muwBWQJNzNXt+mcLns12Bmavb9M4XPZrsAVkCTczV7fpnC57NdgZmr2/TOFz2a7AFZAk3M1e36ZwuezXYGZq9v0zhc9muwBWQJNzNXt+mcLns12Bmavb9M4XPZrsAVkCTczV7fpnC57NdgZmr2/TOFz2a7AFZAia2F395NmaDM1WoWr7tLwnQ2vhw5yYc5ctyNTBHNRPCp5LJ3d3l2ks/I1eQtZ3GWmO6ZEOJOTDXNyIisXFGtVNtW+cC1QSbmavb9M4XPZrsDM1e36ZwuezXYArIEm5mr2/TOFz2a7AzNXt+mcLns12AKyBJuZq9v0zhc9muwMzV7fpnC57NdgCsgSbmavb9M4XPZrsDM1e36ZwuezXYArIEm5mr2/TOFz2a7AzNXt+mcLns12AKyBJuZq9v0zhc9muwMzV7fpnC57NdgCsgSbmavb9M4XPZrsDM1e36ZwuezXYArIEm5mr2/TOFz2a7AzNXt+mcLns12AKyBJuZq9v0zhc9muwMzV7fpnC57NdgCsgSbmavb9M4XPZrsDM1e36ZwuezXYArIEm5mr2/TOFz2a7AzNXt+mcLns12AKyBJuZq9v0zhc9muwMzV7fpnC57NdgCsgSbmavb9M4XPZrsGbWus/bqzVdpdLn7SRY0xONYsJ8Oajua3LfkJlK5EVNvzAX2CTczV7fpnC57NdgZmr2/TOFz2a7AFZAk3M1e36ZwuezXYGZq9v0zhc9muwBWQJNzNXt+mcLns12Bmavb9M4XPZrsAVkCTczV7fpnC57NdgZmr2/TOFz2a7AFZAk3M1e36ZwuezXYGZq9v0zhc9muwBWQJNzNXt+mcLns12Bmavb9M4XPZrsAVkCTczV7fpnC57NdgZmr2/TOFz2a7AFZAk3M1e36ZwuezXYGZq9v0zhc9muwBWQJNzNXt+mcLns12Bmavb9M4XPZrsAVkCTczV7fpnC57NdgZmr2/TOFz2a7AFZAk3M1e36ZwuezXYGZq9v0zhc9muwBWQJNzNXt+mcLns12Bmavb9M4XPZrsAVkCTczV7fpnC57NdgZmr2/TOFz2a7AFZAgSy9n7dWgtRVqHJWkiwpuSbHWNFfNR2sd3GIkJ2CtRVXFVxTFDSczV7fpnC57NdgCsgSbmavb9M4XPZrsDM1e36ZwuezXYArIEm5mr2/TOFz2a7AzNXt+mcLns12AKyBJuZq9v0zhc9muwMzV7fpnC57NdgCsgSbmavb9M4XPZrsDM1e36ZwuezXYArIEm5mr2/TOFz2a7AzNXt+mcLns12AKyBJuZq9v0zhc9muwMzV7fpnC57NdgCsgSbmavb9M4XPZrsDM1e36ZwuezXYArIEm5mr2/TOFz2a7AzNXt+mcLns12AKyBJuZq9v0zhc9muwMzV7fpnC57NdgCsgSbmavb9M4XPZrsDM1e36ZwuezXYArIEm5mr2/TOFz2a7AzNXt+mcLns12AKyBJuZq9v0zhc9muwMzV7fpnC57NdgCsgRfae7a82gUGfqs7a1IsvLMa6JDhzky5zkVyN2kc1E8p6VjLB3kWpocOqU61SwJd8V7EZFm5hrsWLgq4MaqAW6CTczV7fpnC57NdgZmr2/TOFz2a7AFZAk3M1e36ZwuezXYGZq9v0zhc9muwBWQJNzNXt+mcLns12Bmavb9M4XPZrsAVkCTczV7fpnC57NdgZmr2/TOFz2a7AFZAk3M1e36ZwuezXYGZq9v0zhc9muwBWQJNzNXt+mcLns12Bmavb9M4XPZrsAVkCTczV7fpnC57NdgZmr2/TOFz2a7AFZAk3M1e36ZwuezXYGZq9v0zhc9muwBWQJNzNXt+mcLns12Bmavb9M4XPZrsAVkCTczV7fpnC57NdgZmr2/TOFz2a7AFZAk3M1e36ZwuezXYGZq9v0zhc9muwBWQJNzNXt+mcLns12Bmavb9M4XPZrsAVkCTczV7fpnC57Ndgza31n7dWNi06HVLSRZhZpsRYawZqO/JSGqIuOWjcMcfIBfYJNzNXt+mcLns12Bmavb9M4XPZrsAVkCTczV7fpnC57NdgZmr2/TOFz2a7AFZAk3M1e36ZwuezXYGZq9v0zhc9muwBWQJNzNXt+mcLns12Bmavb9M4XPZrsAVkCTczV7fpnC57NdgZmr2/TOFz2a7AFZAk3M1e36ZwuezXYGZq9v0zhc9muwBWQJNzNXt+mcLns12Bmavb9M4XPZrsAVkCTczV7fpnC57NdgZmr2/TOFz2a7AFZAk3M1e36ZwuezXYGZq9v0zhc9muwBWQJNzNXt+mcLns12Bmavb9M4XPZrsAVkCTczV7fpnC57NdgZmr2/TOFz2a7AFZAk3M1e36ZwuezXYGZq9v0zhc9muwBWQJNzNXt+mcLns12Bmavb9M4XPZrsAVkCBKTZ+3dStrPWagWkisnpd0ZIkd01HSGvcvDgqIrtv1Gk5mr2/TOFz2a7AFZAk3M1e36ZwuezXYGZq9v0zhc9muwBWQJNzNXt+mcLns12Bmavb9M4XPZrsAVkCTczV7fpnC57NdgZmr2/TOFz2a7AFZAk3M1e36ZwuezXYGZq9v0zhc9muwBWQJNzNXt+mcLns12Bmavb9M4XPZrsAVkCTczV7fpnC57NdgZmr2/TOFz2a7AFZAk3M1e36ZwuezXYGZq9v0zhc9muwBWQJNzNXt+mcLns12Bmavb9M4XPZrsAVkCTczV7fpnC57NdgZmr2/TOFz2a7AFZAk3M1e36ZwuezXYGZq9v0zhc9muwBWQJNzNXt+mcLns12Bmavb9M4XPZrsAVkCTczV7fpnC57NdgZmr2/TOFz2a7AFZAjiuXXXo0ij1GozNr2xIMrLxI0RjJyZVzmsTFURFaiYnAWFsZeJa+kR6hTLUOl4MOadAcyLNzDXK9rGvVURiOTDByAXMCTczV7fpnC57NdgZmr2/TOFz2a7AFZAk3M1e36ZwuezXYGZq9v0zhc9muwBWQJNzNXt+mcLns12Bmavb9M4XPZrsAVkCTczV7fpnC57NdgZmr2/TOFz2a7AFZAk3M1e36ZwuezXYGZq9v0zhc9muwBWQJNzNXt+mcLns12Bmavb9M4XPZrsAVkCTczV7fpnC57NdgZmr2/TOFz2a7AFZAk3M1e36ZwuezXYGZq9v0zhc9muwBWQJNzNXt+mcLns12Bmavb9M4XPZrsAVkCTczV7fpnC57NdgZmr2/TOFz2a7AFZAk3M1e36ZwuezXYGZq9v0zhc9muwBWQJNzNXt+mcLns12Bmavb9M4XPZrsAVkCTczV7fpnC57Ndgz631l7fWNgSEWqWmiTDZl8RsNIM1HerVYiKuOWjfOBeYJFk7or15mUl47LYw2siwmPaizs1iiOTFEXBp7GZq9v0zhc9muwBWQJNzNXt+mcLns12Bmavb9M4XPZrsAVkCTczV7fpnC57NdgZmr2/TOFz2a7AFZAk3M1e36ZwuezXYGZq9v0zhc9muwBWQJNzNXt+mcLns12Bmavb9M4XPZrsAVkCTczV7fpnC57NdgZmr2/TOFz2a7AFZAk3M1e36ZwuezXYGZq9v0zhc9muwBWQJNzNXt+mcLns12Bmavb9M4XPZrsAVkCTczV7fpnC57NdgZmr2/TOFz2a7AFZAk3M1e36ZwuezXYGZq9v0zhc9muwBWQJNzNXt+mcLns12Bmavb9M4XPZrsAVkCTczV7fpnC57NdgZmr2/TOFz2a7AFZAk3M1e36ZwuezXYGZq9v0zhc9muwBWQIEh2ft0+362TS0kVKijnJ9I+lR+5d7B7t+thlfq7Xg8JpOZq9v0zhc9muwBWQJNzNXt+mcLns12Bmavb9M4XPZrsAVkCTczV7fpnC57NdgZmr2/TOFz2a7AFZAk3M1e36ZwuezXYGZq9v0zhc9muwBWQJNzNXt+mcLns12Bmavb9M4XPZrsAVkCTczV7fpnC57NdgZmr2/TOFz2a7AFZAk3M1e36ZwuezXYGZq9v0zhc9muwBWQJNzNXt+mcLns12Bmavb9M4XPZrsAVkCTczV7fpnC57NdgZmr2/TOFz2a7AFZAk3M1e36ZwuezXYGZq9v0zhc9muwBWQJNzNXt+mcLns12Bmavb9M4XPZrsAVkCTczV7fpnC57NdgZmr2/TOFz2a7AFZAk3M1e36ZwuezXYGZq9v0zhc9muwBWQJAqN016slT5ybjWwY6HAgRIr2pOzSqrWNVyomLU29o7fqdJqoTdLtDFmpyNHT6TBazuj3PVqo1VXDK8GOKAUgAAJOv23f2O4uF05WJJ1+27+x3FwunKxAAAAAAAAAAAAAAAAAAAAAAAAAAAAAAMhv08W1W46W6Zp7Vyfixs96pr8xEPVv08W1W46W6Zp7Vyfixs96pr8xEA1QAAAAAAAAAAAAAAAAAAAAAAAAAAAAAAAAk6/Hxj2O4uB+YUrEk6/Hxj2O4uB+YUCsQAAAAAAAAAAAAAAAAAAAAAAAAAAAAAAAAABJtz/jjtpxVQ/NsKyJNuf8cdtOKqH5thWQAAAAAAAAAAAAAAAAAAAAAAAAAAAAAAAAGbXv8Ai3tHxDOkacBcH4u5X2yY+I5+9/xb2j4hnSNOAuD8Xcr7ZMfEBtAAAAAAAAAAAAAAAAAAAAAAAAAAAAAAAABJuqX/AGyy3FTX4sKyJN1S/wC2WW4qa/FgFZAAAAAAAAAAAAAAAAAAAAAAAAAAAAAAAAAACTrFfvAWi4ye/FCsSTrFfvAWi4ye/FCsQAAAAAAAAAAAAAAAAAAAAAAAAAAAAAAAAOm3i7g7U+6pn4FMy1OO4eo++Y3QwjTbxdwdqfdUz8CmZanHcPUffMboYQG/gAAAAAAAAAAAAAAAAAAAAAAAAAAAAAAAExapf6usz7RM/C0p0mLVL/V1mfaJn4WgUTQ/qWl+xwfgQ5Q4uh/UtL9jg/AhygAAAAAAAAAAAAAAAAAAAAAAAAAAAAAAAAEmyv7zLuNi/kFKyJNlf3mXcbF/IKVkAAAAAAAAAAAAAAAAAAAAAAAAAAAAAAAABwVqdzFe92zPRqYTqa/qKv8AtsP4DdrU7mK97tmejUwnU1/UVf8AbYfwAUmAAJOv23f2O4uF05WJJ1+27+x3FwunKxAAAAAAAAAAAAAAAPxVRqKqrgieVT1Yc9JRXqyHNQXvTwta9qr/ACQD2wAAAPxVRExXwAfoPR/SlM7p3L6dLZe87q3H+WJ7qKioiouKL5QP0AAAABkN+ni2q3HS3TNPauT8WNnvVNfmIh6t+ni2q3HS3TNPauT8WNnvVNfmIgGqAAAAAAAAAHqPn5FkRIb5uC16/wB1XtRf5Ae2D8RUVEVFxxP0AAAAPVmJ6Slv2iagwv43o38TyQY8CO3KgxmRE87XI5P6AeYAAAAAAAAAAAAAJOvx8Y9juLgfmFKxJOvx8Y9juLgfmFArEAAAAAAAAA/lzmtarnORETwqq4IgH9A9FlTpsSIsNk9LuenhakRqr/LE94AAAAAAAAAAAAAAAAAAAAAAk25/xx204qofm2FZEm3P+OO2nFVD82wrIAAAAAAAAAAAAAAAAAAAAAAAAAAAAAAAADNr3/FvaPiGdI04C4Pxdyvtkx8Rz97/AIt7R8QzpGnAXB+LuV9smPiA2gAAAAAAAAAAAAAAAAAAAAAAPDGmZeA3KjRocNPO9yNT+oHmB4oUeBGblQorIiedrkcn9DygAAAAAAk3VL/tlluKmvxYVkSbql/2yy3FTX4sArIAAAAAAAAAAAAAAAAA9R8/IsiJDfNwWvX+6r2ov8gPbB+IqKiKi44n6AAAAAAAAAAAAAASdYr94C0XGT34oViSdYr94C0XGT34oViAAAAAAAAAB44kaFCblRIjWN87lRE/qfxAmpaYTGDHhxE87HI78APOAAAAAAAAAAAPxVRqKqrgieVT1Yc9JRXqyHNQXvTwta9qr/JAPbAAAAAAAB028XcHan3VM/ApmWpx3D1H3zG6GEabeLuDtT7qmfgUzLU47h6j75jdDCA38AAAAAAAAAAAAAAAAAAAAAAAAAAAAAAAAmLVL/V1mfaJn4WlOkxapf6usz7RM/C0CiaH9S0v2OD8CHKHF0P6lpfscH4EOUAAAAAAAAAAAAAAAAAAAAAAAPVjTsnAcjYs1BY5fAjntaq/zPYa5r2o5rkVF8CouKAf0AAAAAAACTZX95l3GxfyClZEmyv7zLuNi/kFKyAAAAAAAAAA8cSNChNyokRrG+dyoif1P4gTUtMJjBjw4iedjkd+AHnAAAA/lzmtarnORETwqq4IgH9A9FlTpsSIsNk9LuenhakRqr/LE94AAAAPxVRExXwHpfpSmd07l9Olsved1bj/ACxA94H4ioqIqLii+U/QAAAAADgrU7mK97tmejUwnU1/UVf9th/AbtancxXvdsz0amE6mv6ir/tsP4AKTAAEnX7bv7HcXC6crEk6/bd/Y7i4XTlYgAAAAAHUrdV9LPWRrNUR2ESDLOSCv/Ff3jP9yofONPpr4MSYRYqw2RGsfExXBHxEVWoq+dclcPUVZqkLQdykKNQob++jRHTUdE8ORD7xiL9iqq/yOFs3YL6VcXWI6wcZuae+oQdrvkbK7TUT1tR2H8QGnXEWhWrWGgy0SIro1Ojvl3YriqsXv2L6sFyU9RtJE2p7r/0C18xS3vwhVKWVrU/4sDF7f9uUWyAMWvTval7HtSnyDIcxVojEdkuxWHAYvgc/DDFV8jfvU1SuVaXo1GqNTj4rDlJeJGcieFchMcE+1fAh8+qBTaneBbmDAmY7ljT8y6LMxvDkQ0756pjjhgiYNTweBAPfgS95V5E3Fc109UUa/v1c/Il4Sr5ExVrG+pNs56NcLeLDhI9snKxF3jZhiOTSwT+pbdJpNPo9OlqfT5ZkCWgMyYcNvgRPOvnVfCqr4TkgIusBAvGsrbeg0mp/pKVko8z3N0F7lfLPTJVcGqiuZjtf3VxLRPxURTjqxU5ekUqfqUxj3GVl4kZ+HhVsNuUqJ9q4bQGaXnXqSNi4DZWXhsmarGh5UKCv6kNq7SPiYYLhtbSJtqSi+evKvGno0NkSen9tFdBhrkS8NF8GKYoxvrXbU9CmylXvDtyyHFir9IqM058WIuKpChp3zsPsY1MGp6kPoDQqDS6BS5em02WbBl4TcERPC5fK5y+Vy+VQIszCXidxy/okplf+X9IbldX9Tif0NejYGPCjLCqVPhLEarnwX90gLiuHfrDVzPucfQI/FRFRUVMUXwoB+gAAAAMhv08W1W46W6Zp7Vyfixs96pr8xEPVv08W1W46W6Zp7Vyfixs96pr8xEA1QAAAAAOl24tvSrG0d0/O4viPVWS0u1cHxn4Y4J5mp5V8h3Q+f17dppi01uZ5kJz3y8pFWUlIaYrjkLkuVETwq92K+rABVrbXiXgVNZOBFmnpExyJCTymw0b/AJkRdtE8quU5OFcLeLEgJEdJysN2GPc3TDMr1d7in9SrrubDSNjrPwJVkNizsVjXzsfDvnxFTHJx3rccGp95oAHz+j2WvVsKizjJeoyUNFxfFlYvdIeCeWJ3JXIifxF5UuLEjUyRixHZT4kvDc5fOrmoqqe+fiIiIBxFertMoFKmqnUY/cpaA3Fy+FVVdpGtTyqq7SIRXa6+K2NqZ1ZSlRI8jKPiZMGXlVVI8THaTLe3vlVd63aOc1QVrItQtHCoMGI5JanNa6K3HadHiNysV8+S1URPMqqa5cpd7K0KhS1am4DXVOehJEa5ybcGA9MWsbj4Fcm25fuAn6RuTvIqbfpEWnsgLEXKxmY7WvXHyqiK5yL69s8M1dHefQ3LOQKXGVYW2kWTjtfET+FrHZf8kL7AGPXJVau1SyMw+szUxHmYFRiwMqPj3RrWMYuS5V21VFVfDtmZXn3W25tBbSpVOmSzHysVkBGOWYYxe8hNau0qphtoVaiIiqqJ4dtT9AhHMfed/goXOofWZfJyNTnarL0yArlmo0y2XY1X4IsRzshExVcPD5T6fHzmsp4yqF/qCX6dAO15j7zv8FC51D6zV7nruLY2XtRNT1YlmMl306JBaqRmxO/c9jk2mqvkau2UuAAAAAAASdfj4x7HcXA/MKViSdfj4x7HcXA/MKBWIAAAAAAdStzaRtmLK1WrYIsSDBwgtXyxXrkMRfsxXb+wDM70744Vl4r6TR2w49URE7q96ZUOXRUxwVEwyn4eTwJ5SbJanXlXizESK36fUWpE76JEfkS7HeZMpWsbh5kPy7uykxbm2LIE3FiPhYump+Mqqr3MR22mO+eq4Y/efQKRkZOnykCTk5dkGXgsRkOGxMGtankRAIdi3CXiw4WW2TlIjt42YYjv92Cf1PbshKXkWNthZ6nTralJScxUZeFEhq5Xyz2xHojkRUVzFVU822XEfioi+FP/APIB0i8ei1Ku2KrFMprEdNR2QkhtV6MRVbFa5dtfBtISTmPvO/wULnUPrLuAHzktXYa1tkoUpFrEJITZhzmwlbGbExVqIq/qquHhPZsvd3bO1VPiT9JgNiwGR3QXOdHaxctrUcqYOVPI5DdtUt9W2a9omPhac/qctw0/74jdFCAw7Mfed/goXOofWVpL0Spw7todFcxEn0s/9EVuUmHdu4dzwyvB+t5TvQAhHMfed/goXOofWdftNdvbazFNSoVWA2HL91bDymx2vXKdiqbTVx8h9DjDtUJuAb7xgfg4CU7J2KtXa5J1aPDSL9F7n3XKjJDw7pjk4ZSpj+qp2/Mfed/goXOofWaPqZv1LWfxSX/2lTgdBuxoVUoFiqXTKmxGTcFY/dGo9HomXFc9NtMcdpTvwAAAAAABJtz/AI47acVUPzbCsiTbn/HHbTiqh+bYVkAAAAAASjefdbbm0FtKlU6ZLMfKxWQEY5ZhjF7yE1q7SqmG2hn+Y+87/BQudQ+su4AfMGTkanO1WXpkBXLNRplsuxqvwRYjnZCJiq4eHymoZj7zv8FC51D6zqllPGVQv9QS/TofRkCaLnruLY2XtRNT1YlmMl306JBaqRmxO/c9jk2mqvkau2dkvqsTaW1cKhNosFsRZZ8wsbKith4ZaMyf1lTHwKbmAIRzH3nf4KFzqH1mdWiolbs3VItNqaLDmYbWOc1sRHpg9MU22qqH0zIOv38Y9R9nlujQD16fc9eNUZCTnpaUhugTMCHGhOWZYiqyI1HNXBV2tpTs9mbnLxZC0lDnZmThpAl6hLRoqpMsdgyHERztpF29pCqrD7i7Le55LoWnaAMpvgsvXLT2Wl5Gjw2vmGz8OK5FiJD7xrHou2uHlVNomfMfed/goXOofWXcAPmxaqylpLJzcvK1dncosaF3RiNio9FbirfC1V8x2Kg3WW8tBSZWqU6WY+Vjo/ubnTDGKuQ5WLtKuKbaHftUlumonu5ekcbrcr4srPeqZ/MRAJjzH3nf4KFzqH1l2MTBjEXwoiIf0AAAAAADNr3/ABb2j4hnSNOAuD8Xcr7ZMfEc/e/4t7R8QzpGnAXB+LuV9smPiA2gAAAAAIVjXI3mvixHJJQsFcqp/wBqh+VfWXUAPn7W7qLf0OlzVTn5ZjJaXajojmzDHKiKqJ4EXHynV7LWYtDaufiyNIb3WPDgLGc10VIaIxHI1VxcqeVyFx3u+Li0ns7OkaTpqcN2lU9zxOmhgcHmPvO/wULnUPrKSubspXrL2bnpKswmw48SoPjMRIiRO8WGxqbbVXytXaNcAEZ2uufvDqVqa7PykpDdLzNQjxYLlmWNxY96q3aVdraXwHVZy5m8iTlJmajScNIUGE+I9UmmKqNYmUu0i/YXscFajczXfd0z0agfOaz9HrNoatLUum4xJqPl9za6IjEXIar123KieBDSMx953+Chc6h9Z6FyHjNoPqmvy7y/QMFuUsNaiyj6+tagthpMpLJBwitiY9zy8r9VVw/WQ3WLFhQYUSLFe1kOG1XPe5cEa1qYqqqvgRDyk96oO1UWm2elKNLxHNi1J7ljKi4L3CFhi3/3KqetEUDOLw79arUZmPIWajPlJFq5P0tEyY8bDytVdtjfNh3x06m3T3lWkT6fFkYqJFRHJHnY2Q9+Plweqv8AvVDQLgbBytQix7S1CAkRktG7lJQ3Ji3urURzouHlycURv24+YrwCCZm5i82lO+kQKb3RYXfJElZhivTDytTFrlX1IUJcbVLSztHrECuzE5EmJScbDa2ayu6sRWIuC5fffzNyPzBMcQP0AAAAAJN1S/7ZZbipr8WFZEm6pf8AbLLcVNfiwCsgAAAAAym+Cy9ctPZaXkaPDa+YbPw4rkWIkPvGsei7a4eVU2jVgBCOY+87/BQudQ+s6NaqylpLJzcvK1dncosaF3RiNio9FbirfC1V8x9JyONUlumonu5ekcB0Gg3WW8tBSZWqU6WY+Vjo/ubnTDGKuQ5WLtKuKbaHL5j7zv8ABQudQ+spy5XxZWe9Uz+YiGpAfyxMGMRfCiIh023Ft6VY2jun53F8R6qyWl2rg+M/DHBPM1PKvkO6Hz+vbtNMWmtzPMhOe+XlIqykpDTFcchclyoieFXuxX1YAKtba8S8CprJwIs09ImORISeU2Gjf8yIu2ieVXKcnCuFvFiQEiOk5WG7DHubphmV6u9xT+pV13NhpGx1n4EqyGxZ2Kxr52Ph3z4ipjk471uODU+80AD5/R7LXq2FRZxkvUZKGi4viysXukPBPLE7krkRP4i8qXFiRqZIxYjsp8SXhucvnVzUVVPfPxEREA/SVtUfaJzXUWhQYqouDpuOiLh54cPwf+4qk+fVqZqNbq9CYhy71cybqLJSXcm2iQmKkNHp9mCZSgdVoVXqFnLQ0qoP7q18tGgTCsVVRXwnIj8NvyPYv8lPpVAjQpiDCjQno+HEY17HJ4Fa5MUVPWRvqg7MQaZV6LUJWCjJeYk0llRE2kdLYI3H1tVET1G6XK2g/TNgac178Y0irpOJ6oWCs/2KgGsgAAAAAAAk6xX7wFouMnvxQrEk6xX7wFouMnvxQrEAAAAAAEq3m35TMGbmKRZeI1qQ1dDjz+GUquRcFbBx2sE33l8hqF9FqotnbFTP0aI5k1PPSVguauCsRyKr3J5sGoqIvkVUJ0uQsJLWmr0eeqEFIkhTkY5Ybk72LGfjkNXztTDFU9WIHAUu7+8m2qNqKy01HhxExbNzkbBHIvlasRcpyfaiYHJTVxt5MmqPg06DHVu2iwZmGiph5stWrj6i8URERERMETwH6BNtxtQtilVrlJtBHqH/AGaWhOhQJzKVzMXKmLVft4ebyFJH5gmJ+gcfVKjL0ymzs/MLhBlZeJGiL/lhtyl/A+aU7O1SrTtTqMR0R73vfMzDmquDe6xERVXzJlORPvLLv+tB+jLFJIQ34RqlMNhYeBe5Q+/ev80RF9ZnFzNhmVmxNr40ZiZVRhukpdzk/VWG3Lyk+zLVPvQDs+pztC6ao9WosaIrnysdI8LFcV7nGTBUT7Ec3H7ykj5/3QVx9AvCprYyrDZMvdJR2rtKndVwai+bB6JifQAAYtene1L2PalPkGQ5irRGI7JdisOAxfA5+GGKr5G/epqlcq0vRqNUanHxWHKS8SM5E8K5CY4J9q+BD59UCm1O8C3MGBMx3LGn5l0WZjeHIhp3z1THHDBEwang8CAe/Al7yryJuK5rp6oo1/fq5+RLwlXyJirWN9SbZz0a4W8WHCR7ZOViLvGzDEcmlgn9S26TSafR6dLU+nyzIEtAZkw4bfAiedfOq+FVXwnJARdYCBeNZW29BpNT/SUrJR5nuboL3K+WemSq4NVFczHa/uriWifioin6AAAAAAdNvF3B2p91TPwKZlqcdw9R98xuhhGm3i7g7U+6pn4FMy1OO4eo++Y3QwgN/AAAAACFY1yN5r4sRySULBXKqf8AaoflX1l1AD5+1u6i39Dpc1U5+WYyWl2o6I5swxyoiqieBFx8p1ey1mLQ2rn4sjSG91jw4CxnNdFSGiMRyNVcXKnlchcd7vi4tJ7OzpGk6anDdpVPc8TpoYHB5j7zv8FC51D6ykrm7KV6y9m56SrMJsOPEqD4zESIkTvFhsam21V8rV2jXABKN591tubQW0qVTpksx8rFZARjlmGMXvITWrtKqYbaGf5j7zv8FC51D6y7gB8wZORqc7VZemQFcs1GmWy7Gq/BFiOdkImKrh4fKahmPvO/wULnUPrOqWU8ZVC/1BL9Oh9GQJoueu4tjZe1E1PViWYyXfTokFqpGbE79z2OTaaq+Rq7ZS4AHUrdV9LPWRrNUR2ESDLOSCv/ABX94z/cqHzjT6a+DEmEWKsNkRrHxMVwR8RFVqKvnXJXD1FWapC0HcpCjUKG/vo0R01HRPDkQ+8Yi/Yqqv8AI4WzdgvpVxdYjrBxm5p76hB2u+RsrtNRPW1HYfxAadcRaFatYaDLRIiujU6O+XdiuKqxe/YvqwXJT1G0kTanuv8A0C18xS3vwhVKWVrU/wCLAxe3/blFsgAAAAAAmLVL/V1mfaJn4WlOkxapf6usz7RM/C0CiaH9S0v2OD8CHKHF0P6lpfscH4EOUAAAAdHvHotSrtiqxTKaxHTUdkJIbVejEVWxWuXbXwbSHeABCOY+87/BQudQ+s6lauw1rbJQpSLWISQmzDnNhK2M2JirURV/VVcPCfRsmPVLfVtmvaJj4WgYTZe7u2dqqfEn6TAbFgMjuguc6O1i5bWo5UwcqeRyHZMx953+Chc6h9ZuOpy3DT/viN0UI30Dr1k5Captl6FIzbcmYlqfLwYyIqOwfDho122nh208J2EHrzk1Ak5SYmo70ZCgQnxIjl/utYmUq/ciARpqg7RvnLWy1KgxV7nTpZMtEX/xo+D3eD/LknSLt65N2avApTpt0SG1JpZSaY9cMlIi9zXKx3i7a+o81kZePbi9GVizLMps1UXzkw1dtEhsVYqtX7MEyUOTvzoP6Jt7NzENmTCqEJk0zBNrKXvX/flNxX1gXiDqFg6+lobIUWpq/KiRZZrYy/8AFh94/wDm5FU7eBwFpbSUuzNHmapUoqsgQkRERExc96+BjE8qqRTaW9O3Ns6iknT3zEtBivVsCRkldlvRfI9ze+euHh8n2HOX/wBqotTtU2jQoi/RaaxEc1F2nR4iZTnfbgioiebbNyuYsHK2ds5LVKPARalUILYsSI5O+hwn98yEmPg2tt32+oCdZS4u8abg92fIwICuTHIjR2o9fWjcrBV+09OPd7erZLKnpeRnoCN8MaSjI9cE8qpBcrsPPimBfoA6dYCfnalYygzk7GdFmY0mx0WI7DFzvOuB3E/EREP0AAAAAAk2V/eZdxsX8gpWRJsr+8y7jYv5BSsgAAAAAASrebflMwZuYpFl4jWpDV0OPP4ZSq5FwVsHHawTfeXyGoX0Wqi2dsVM/RojmTU89JWC5q4KxHIqvcnmwaioi+RVQnS5CwktaavR56oQUiSFORjlhuTvYsZ+OQ1fO1MMVT1YgcBS7v7ybao2orLTUeHETFs3ORsEci+VqxFynJ9qJgclNXG3kyao+DToMdW7aLBmYaKmHmy1auPqLxREREREwRPAfoE23G1C2KVWuUm0Eeof9mloToUCcylczFypi1X7eHm8hSR+YJidTtzaRtmLK1WrYIsSDBwgtXyxXrkMRfsxXb+wDM70744Vl4r6TR2w49URE7q96ZUOXRUxwVEwyn4eTwJ5SbJanXlXizESK36fUWpE76JEfkS7HeZMpWsbh5kPy7uykxbm2LIE3FiPhYump+Mqqr3MR22mO+eq4Y/efQKRkZOnykCTk5dkGXgsRkOGxMGtankRAIdi3CXiw4WW2TlIjt42YYjv92Cf1PbshKXkWNthZ6nTralJScxUZeFEhq5Xyz2xHojkRUVzFVU822XEfioi+FP/APIB+mRXnXqSNi4DZWXhsmarGh5UKCv6kNq7SPiYYLhtbSJtqaXWKnL0ilT9SmMe4ysvEjPw8KthtylRPtXDaPnvTZSr3h25ZDixV+kVGac+LEXFUhQ0752H2MamDU9SAe++evKvGno0NkSen9tFdBhrkS8NF8GKYoxvrXbU5/MJeJ3HL+iSmV/5f0huV1f1LToVBpdApcvTabLNgy8JuCInhcvlc5fK5fKpzIHz9/Q16NgY8KMsKpU+EsRqufBf3SAuK4d+sNXM+5x9Aj8VEVFRUxRfCh+gAAAAAHBWp3MV73bM9GphOpr+oq/7bD+A3a1O5ive7Zno1MJ1Nf1FX/bYfwAUmAAJOv23f2O4uF05WJJ1+27+x3FwunKxAAAAAdUtxX0s9ZOs1TKRHwJZ3ceNf3jP9yoBFF5NTj2uvKnYUquXjNw5CUTHaXId3NMPsc5VX7y8KZTJam0qSpsFqdwlpZkBqKnhaxuTt+vDbIguOpMKoW8l5uZe1IUhCfMqr1REWJ+oxMV8uLsr7i5vp8j/AIuDptA+eNVgTNh7wo7YKKjqZU0iQUx/WhI5HsRf4mKmJ9EJObgTkpLzUB6PhR4TIkNyeVr0ykX70Uj3VEUmXZX6XWJeJDe2bllgxshUXCJAXaVcPO1yJ9xtFxlf/S9g5SA9+ManRHSr8fDkJ3zF9WSuH3AeS/ObfLXcVRrHYLHjS8JfUsRHKn35Ji+pukmRLSVqbVMXQZBsNv2d1iIq/f3hsN/UBYt3U69ExSFNS71+zF+R/wBRkOptm2MtFXJVV76LINiIn2QoiIvxgWIAABkl+E4+Vu4q6MdkrGiQIWP2OiIqp96Ia2Y5fvLui3cVB6Jj3GYl3r9iLERn/UBjepvkGRbSVqdcmLoEg2G37O6vRVX194WI9yMY56+BEVV+4kHU2TbGV6vyqr30WShxET7IT8lfjK+e1HscxfA5FRfUoGH7ISwO8qXIN7Q2Qlgd5UuQb2j92PdgN9UuXb2SS7d0SSoNrqxS5NYn0eWjoyHlrlOwyUXbXa84H0lRcURU8p+n8s/UZ/Ch/QAAAZDfp4tqtx0t0zT2rk/FjZ71TX5iIerfp4tqtx0t0zT2rk/FjZ71TX5iIBqgAAAAD06hMLKyE3MJh/ZQIkTb/wArVU+eV3EqlRvBs4yMqvyqjDiux28pYa902/Xhtn0Iq8B0zSqjAamKxZWKxE86uaqHz3uxm2Sd4FmYr1wRZ+HDx+2L/Zp8QH0ZAAAAAfOCuZVcvCqDYj1X6ZW3w8U8jXxslET1J4D6OMY1jGsa1Ea1ERETwIieQ+b869tJt/Mvi4tSUrr1d9iQo+K/gfSMDNLXXq2XsjVGU6ptnO7vgNjJ3KGj25LlVqbaqm33p1fZCWB3lS5BvaO02uuqsva6qMqNTWbSOyA2CncoiMbktVXJtKi7ffE73w3Z2bsdSKZNUtZpYkebWG/usRHpkoxXbWCJtgVNY+2VHthTY0/S0jpBhTCwHd1YjHZbWo5cERV2sHIdsJ+1OG4up++InQwygQB85rKeMqhf6gl+nQ+jJ85rKeMqhf6gl+nQD6MgAAAAAAAEnX4+Mex3FwPzClYknX4+Mex3FwPzCgViAAAAAE86o6cfCslS5ZrsEj1JFcnnbDhuXD+aoUMTlqkpdXWZokxhtMqKsVfNlw3L/wBIHoamqQhtptop7Dv4kxBg4+ZIbVdtevK2yi6tU5ak0ueqMzl9wlYD40TITF2SxMpcE2sV2ietTXNsdRbQyiL30OchRVT7IrFanwFC1amS1Wpc9TpnK7hNQHwYmSuDsl6ZK4Lt4LtgY7shLA7ypcg3tHu0y/SxFTqUjIS7ah3aamIcCHlQWo3LiuRqYrlLtYqense7Ab6pcu3skr0CVhSd5dIlYWPc4Fo4ENmK4rksmUamP27QH0aAAEx6pb6ts17RMfC05/U5bhp/3xG6KEcBqlvq2zXtEx8LTn9TluGn/fEbooQG+gAAYdqhNwDfeMD8HG4mHaoTcA33jA/BwHSdTN+paz+KS/8AtKnJY1M36lrP4pL/AO0qcAAAAAAAACTbn/HHbTiqh+bYVkSbc/447acVUPzbCsgAAAAAAAAPnNZTxlUL/UEv06H0ZPnNZTxlUL/UEv06H0ZAAAAQdfv4x6j7PLdGheJB1+/jHqPs8t0aAWTYfcXZb3PJdC07QdXsPuLst7nkuhadoAAACONUlumonu5ekcbrcr4srPeqZ/MRDCtUlumonu5ekcbrcr4srPeqZ/MRANSAAAAAAABm17/i3tHxDOkacBcH4u5X2yY+I5+9/wAW9o+IZ0jTgLg/F3K+2THxAbQAAAAAAADOL3fFxaT2dnSNJ01OG7Sqe54nTQyi73fFxaT2dnSNJ01OG7Sqe54nTQwLSAAA4K1G5mu+7pno1OdOCtRuZrvu6Z6NQIfuQ8ZtB9U1+XeX6QFch4zaD6pr8u8v0ARDqhpx8a3UGAru9l6dBaieZXOc9V+/Et4hrVAwFhXgOeqYd2p8B6fbhlM/6QKeukkmSd3VnIbE/Xl1ir9qxXq//wCTRzOrpptk3d3ZuIxcUbKrCX1wnqxfwNFAAAAAAAAAEm6pf9sstxU1+LCsiTdUv+2WW4qa/FgFZAAAAAAAAEcapLdNRPdy9I4scjjVJbpqJ7uXpHAbrcr4srPeqZ/MRDUjLblfFlZ71TP5iIakB6dQmFlZCbmEw/soESJt/wCVqqfPK7iVSo3g2cZGVX5VRhxXY7eUsNe6bfrw2z6EVeA6ZpVRgNTFYsrFYiedXNVD573YzbJO8CzMV64Is/Dh4/bF/s0+ID6MgAAAAOjXk2g1v2KrU+1+TG+jrCgKnh7rG7xqp6scfuJf1PdB+n2wmKm9mMOmyyuavmix8WN/25R2/VI2g+pKDDfvpyOn84cP/qO6XDU2UpNiGzUaPCZHqEw+M5HORHIxv9mxF/kqp6wOavtoP6YsBUHsZlRpBzZuH6oe0/7shVX7jE9TnaD6LaCpUaI/Bk9LpFhIq/8AiwNtUT1tVVX1FbTMelzUvGl40xAdCiw3Q3tV7cHNemCp9+J88pCYj2Kt5CiZauWmVNWvc3/xIbH5LsPse38QPo+Dxw4jIsNkSG5HMe1HNcm2iou2ioeQAAAAAAk6xX7wFouMnvxQrEk6xX7wFouMnvxQrEAAAAAAkzVLTj1nLNSmV3jYMxFVPOrla1F/oaDqfZJkvYHuyJ30zPxojl/hRIafCZvqlYDm1WzkfDafKx2Iv8DkX/qNL1P02yPd+2E1duXn48NyfauET/qA28AAAD0KnUJemU6dn5hcIMtAiRoi/wCWG3KX8AIrv9tB+k7a/QIb8YNNgNhYeTusTv3r/VEX1FZ2CoOt+x9EpjmZMSFKtdGT/ixO/f8AycqkR2Jln2svIkYs85uEeoPnJpXKiNwaqxXIuPkVUyfvPoD9Pkf8XB02gQRe7RH0C8KqLBxhsmIjZ2A5NpU7quUqp5sHoqIXDZOuMr9m6RVWKn/apVj3ongSJhg9v3ORUJ+1RlLlZqn0asy8WE98CK6Wi5LkVVZETKaq4eRFav8AM5XU51/6VQKnRoj8XyUwkWEi/wDlR/CiepyKq+sDt1+c2+Wu4qjWOwWPGl4S+pYiOVPvyTF9TdJMiWkrU2qYugyDYbfs7rERV+/vDYb+oCxbup16JikKal3r9mL8j/qMh1Ns2xloq5KqvfRZBsRE+yFERF+MCxAAAAAAAAAAB028XcHan3VM/ApmWpx3D1H3zG6GEabeLuDtT7qmfgUzLU47h6j75jdDCA38AAAAAAAGcXu+Li0ns7OkaTpqcN2lU9zxOmhlF3u+Li0ns7OkaTpqcN2lU9zxOmhgWkAAAAA+c1lPGVQv9QS/TofRk+c1lPGVQv8AUEv06H0ZAAHVLcV9LPWTrNUykR8CWd3HjX94z/cqARReTU49rryp2FKrl4zcOQlEx2lyHdzTD7HOVV+8vCmUyWptKkqbBancJaWZAaip4Wsbk7frw2yILjqTCqFvJebmXtSFIQnzKq9URFifqMTFfLi7K+4ub6fI/wCLg6bQPnjVYEzYe8KO2Cio6mVNIkFMf1oSOR7EX+JipifRCTm4E5KS81Aej4UeEyJDcnla9MpF+9FI91RFJl2V+l1iXiQ3tm5ZYMbIVFwiQF2lXDztcifcbRcZX/0vYOUgPfjGp0R0q/Hw5Cd8xfVkrh9wGxgAAAABMWqX+rrM+0TPwtKdJi1S/wBXWZ9omfhaBRND+paX7HB+BDlDi6H9S0v2OD8CHKAAAAAAAmPVLfVtmvaJj4WlOEx6pb6ts17RMfC0Dn9TluGn/fEbooRvpgWpy3DT/viN0UI30AY3fnaD9EWEmpeG/CNUYjZVmHhyF76IvqyUwX1myEVaoa0H061krSob8YdOlky0/wCNHwev+1Ggdn1NtBxi1yuxGbTUbJwXfauESJ/0nZ9UVQPplmJCrw2Yvp8zkRF80KYwauP/ALkbh6zvV1lPkqDYWiyr5iC2NEg/SI6K9qLlx+/wXb8LUVE+47JaiUptds7VqU+bl/8AtUrEhtVXtwa9U7133OwUDCtTfaDukjWaFEf30GI2agIq7eTE7x6J9iKifzKePnrdVXH2et/SYkVVZDixllJhF2sGxu82/sa7BV9R9CgPm5WFdWrfT6RXKv0ytRGqqeaJGyURPUi7R9IWta1qNaiIiJgiJ4ERD5sTr0pVuJl8TFqSlaervOnco23+B9KEVFTFPAB+gAAAAAAAAACTZX95l3GxfyClZEmyv7zLuNi/kFKyAAAAAAJM1S049ZyzUpld42DMRVTzq5WtRf6Gg6n2SZL2B7sid9Mz8aI5f4USGnwmb6pWA5tVs5Hw2nysdiL/AAORf+o0vU/TbI937YTV25efjw3J9q4RP+oDbwAAJ51R04+FZKlyzXYJHqSK5PO2HDcuH81QoYnLVJS6uszRJjDaZUVYq+bLhuX/AKQPQ1NUhDbTbRT2HfxJiDBx8yQ2q7a9eVtlF1apy1Jpc9UZnL7hKwHxomQmLsliZS4JtYrtE9amubY6i2hlEXvoc5Ciqn2RWK1PgKFq1MlqtS56nTOV3CagPgxMlcHZL0yVwXbwXbAx3ZCWB3lS5BvaPdpl+liKnUpGQl21Du01MQ4EPKgtRuXFcjUxXKXaxU9PY92A31S5dvZJXoErCk7y6RKwse5wLRwIbMVxXJZMo1Mft2gK/vwnHyt3FXRjslY0SBCx+x0RFVPvRDE9TfIMi2krU65MXQJBsNv2d1eiqvr7w2S/eXdFu4qD0THuMxLvX7EWIjP+oyHU2TbGV6vyqr30WShxET7IT8lfjAr57kYxz18CIqr9xh+yEsDvKlyDe0bg9qPY5i+ByKi+pTENj3YDfVLl29kD82Qlgd5UuQb2jckXFEVPKfNq3dEkqDa6sUuTWJ9Hlo6Mh5a5TsMlF212vOfSRn6jP4UA/oAAAABwVqdzFe92zPRqYTqa/qKv+2w/gN2tTuYr3u2Z6NTCdTX9RV/22H8AFJgACTr9t39juLhdOViSdftu/sdxcLpysQAAAEyapC0HcqfR6FDf30eI6Zjoi7eRD71iL9iqqr9xTZ8+b0axGtPeJUvo2MRrJhslKtTbxSGuR3v8TsVT1gfzZ26S2loqTL1SnysBZaMr0hufFaxVyHK1VwXyYoc5mEvE/wALKc4aWnZ6kQaJQqZS4WCtlJWHCx3ytbgrvvXbOZAgOq3LW8pVNnKhMykv3CWgvixciM1zkYxMXKiJ4cEO1ani0H0G1U5SYj8IdRlsWJ540DFyf7VcWZHgQpiBFgRWI+HEY5j2r4Fa5MFRfWfORfpdiLd/3liUqp+pYjIb/wAHt/ooF+2woWuCzFYpWKI6ZlXshqvgSInfMVfsRyIQNYa0cextsZKfjQoiNgRXQZuF4Hdzd3j0VPO3wonnQ+i8vMQZmXgzEF6PhxYbXscngc1yYov3k8XsXMxa7NRq5QEYk8/bmZVyoxsdUT9dirtI/wA6LtL4fCBQMjPSdQk5eck5hkaXjMR8OKxcWuavlQ9w+dtMtJeFYGYfLQos7IYuVXS0xCxhuVPCqNiIqbfnadqi3/3hRIaMbGkYa79suiu/3Kqf0Aug4C1NEZXrO1alOcjfpUq+G1y+Br1TvXfcuCkpWBqN5lqraUKpVF9TmafBmMuJEViwpVqI1dtEajWKvq2yzAPnRYa0MxYm2srNzUJ7EgRny87C/vIx3ePTDztXbRPOh9DJKdlJ+UgTcpHZGgRmI+HEYuLXNXwKimEXsXOutJHiVqiZDKkrUSPAcqNZMZKYI5FXaR/k29pSdKdaO8W72YfKsfOSKZa5UtMQ8qE5U8KtR6Km352+HzgfQ0+eF7XjGtL7UnwNO3u1QtvVhKxIVMR3/mJAdlf1fh/Q6DDo9trc1eYn4NMmZ2YmomVEjMhJDhY+Dbd3rG+DzgfRxn6jP4UP6P5Yio1qL5EQ/oAAAMhv08W1W46W6Zp7Vyfixs96pr8xEPVv08W1W46W6Zp7Vyfixs96pr8xEA1QAAAAAPnNb2hzVlLb1OWZlQ+5zX0iUeiYf2b1y2Kn8Pg9aH0ZMwvMu2krbU2HkxEgVGWR30aOqd6qL4YcTDbyV8/kXbA5ywtspC11n5aoS72JGRqNmoCLtwoqJtoqeZfC1fKh3M+dkxSbwbvam6P3KdkIjNr6TCxdBiN8iZSYsci+Zf5HaoV/14TIPc3RpKI7DDujpdEd6+9VE/oBdIIEi2zvZttlSkvM1CZhquDocnC7mzBfI9YSJtfxLgXZS4cSDTZGFEaqPZLw2vTzKjURUAiK/WzcWkW3jzrWL9HqbEmIbsNpIiIjYjfXj333lMXS24lbU2XlIb4yfpGShMgzcNV75chMlsX7UeiYr9uKHZra2NpdsKJFps9ixcrLgR2oivgxE8Dkx8KeRU8qEUVqw9v7A1NJyFCmWNhOVYVQlMp0NWpvlb+rj5Wu8IH0FJw1Se52he8HdGpk8lf/AHgy0JrIsSRmVRP140DBy+vuasQ6zaW3VtLfulpOZhJHSE9XwpaVl1VcpUwx2spy/wAwKM1OG4up++InQwygTF7jLO1qgWRm4FVkYkrFjVF8aHDfhldzdDY1FVE2022rtLtm0AD5zWU8ZVC/1BL9Oh9GT5zWU8ZVC/1BL9OgH0ZAAAAAAAAJOvx8Y9juLgfmFKxJOvx8Y9juLgfmFArEAAAAAM8vSs3FtHYirSUBuVMMYkxLoiYq58FcrJT7XJi1PWaGAIEudtpAspatFnYmRIzsPuEw5fBDXHFkRfsau0vmRVL4Y9kRjXscjmuRFa5FxRUXwKi+Yl69O5KanJ2YrVmobXvjOV8zI4o3vl21fCVcE2/CrV8vgMbo9vrxLEqlPbMTMCGz/wDjnISq1v2NSImU1PsRUQD6EHzupnjXkf8AVEP80h3CPqhLfxYWQxtNhOw//YyA5Xevv3OT+h1+wNl7XVq2FHqzKVNRILarAmpiadD7nDyUipEe5HOyWr58EA+gIAAmPVLfVtmvaJj4WnP6nLcNP++I3RQjgNUt9W2a9omPhac/qctw0/74jdFCA30AADDtUJuAb7xgfg43Ew7VCbgG+8YH4OA6TqZv1LWfxSX/ANpU5LGpm/UtZ/FJf/aVOAAAAAAAABJtz/jjtpxVQ/NsKyJNuf8AHHbTiqh+bYVkAAAAAAAAB85rKeMqhf6gl+nQ+jJ85rKeMqhf6gl+nQ+jIAAACDr9/GPUfZ5bo0LxIOv38Y9R9nlujQCybD7i7Le55LoWnaDq9h9xdlvc8l0LTtAAAARxqkt01E93L0jjdblfFlZ71TP5iIYVqkt01E93L0jjdblfFlZ71TP5iIBqQAAAAAAAM2vf8W9o+IZ0jTgLg/F3K+2THxHP3v8Ai3tHxDOkacBcH4u5X2yY+IDaAAAAAAAAZxe74uLSezs6RpOmpw3aVT3PE6aGUXe74uLSezs6RpOmpw3aVT3PE6aGBaQAAHBWo3M133dM9GpzpwVqNzNd93TPRqBD9yHjNoPqmvy7y/SArkPGbQfVNfl3l+gCYNUfZyLFlKRX4TFVICulZjBMcGvXKYq+ZEXFPWqFPnoVSmyVVp81ITsFIsvMQ3Q4rF8rXfgvmXyATBqfLcSsFkxZeejIxz4qxpFzlwRyuTv4SfbtYonl2yriE7cXM2ns3NxJmlwY1Qp6OyocWCmVGhp4USIxu3im+Ta9R6NKvovFo0NJV1RSYbD71GzcJIj24eRXbTl+9QL6BB0zfZeZU3fR5adZCdE71GS0u1Xrj5G4o52PqKCuQkbVQKRV5i0MKebMTM217HTau7q5qMwxwftonrA28AAAAAJN1S/7ZZbipr8WFZEm6pf9sstxU1+LAKyAAAAAAAAI41SW6aie7l6RxY5HGqS3TUT3cvSOA3W5XxZWe9Uz+YiGpGW3K+LKz3qmfzEQ1IAfOa3tDmrKW3qcszKh9zmvpEo9Ew/s3rlsVP4fB60PoyZheZdtJW2psPJiJAqMsjvo0dU71UXww4mG3kr5/Iu2BzlhbZSFrrPy1Ql3sSMjUbNQEXbhRUTbRU8y+Fq+VDuZ87Jik3g3e1N0fuU7IRGbX0mFi6DEb5EykxY5F8y/yO1Qr/rwmQe5ujSUR2GHdHS6I7196qJ/QC6QQJFtnezbbKlJeZqEzDVcHQ5OF3NmC+R6wkTa/iXArW2dbi2Zu4nJtyqyZh09kCHt7aRojUhph51aq4/cBG1uqlM2xvEqCyf9qsxPNlJNqLtOa1UhMw8yO8P3nY8wl4n+FlOcNPLcJQP0pbhk49mMGmwHx1Xyd0d3jE9e2qp6i5wITzCXif4WU5w06Ta6wlorIPk21eBDZ9JR6wlY9Hovc8MpNrypih9IjFL+aB+lLDRZtjMYtOjsmEw8Kw3d49PVguUvqA5i5u0H6bsDS3PflRpNFk4vrg4ZH+xUNTI91OVoPo9bqtEiP7ybgJHgoq/+JB2lRPtVq4/cWEAAAAAASdYr94C0XGT34oViSdYr94C0XGT34oViAAAAAAYVf9ZyLVLHMqEBiui0yP3VyImK9xiJkvw9W0q/Yhjlw9uJWhVmapFQjJDlairFhxHLg2HHZtJj5kei4Y+dELUiwocaFEhRGNex7Va5rkxRyKmCoqL4UUjG8S46sUqajz1nZeJO09yq/wCjt76PAx/uo3wvankw2/OBaQPn5Rr1Lw7MMSQSfiLDhJkpLzkPLVn2YvwciJ5ExwOWmr97x5vBkGbloDnbSdxl2qqqvmy8vbAu0w6/20H6MsUsjDfhGqUdsHDHb7kzv3r/AERF9ZwVyMvbeNVK1VLRMqStjy8NsGLN5SZS5SqqMR/gT1JgZXf9aD9J21Snw34wabAbCw8ndYnfvVPuVEX1AdMspdnau1kjGnaVLQnQIcZYTnRIiM79ERyomPh2lQ7TmEvE/wALKc4aVfdjQP0BYeiST2ZMZ0BI8fFNvukbv1Rftbjh9x30CEH3D3iMY9/0OVdktVcEmGqq4eRPtPSuWr/6Ft9TmvfkwZ5HScT1xcMj/eiF+HzvvKo0WzVv6tBgYw2pNJNSzk2slsX+0bk/wquH3AXZbCha4LMVilYojpmVeyGq+BIid8xV+xHIhA1hrRx7G2xkp+NCiI2BFdBm4Xgd3N3ePRU87fCiedD6AWZrUKu2fpVVh4Ik1Kw4ion91yp3zfuXFDD72LmYtdmo1coCMSeftzMq5UY2OqJ+uxV2kf50XaXw+ECgZGek6hJy85JzDI0vGYj4cVi4tc1fKh7h87aZaS8KwMw+WhRZ2QxcqulpiFjDcqeFUbERU2/O07VFv/vCiQ0Y2NIw137ZdFd/uVU/oBdAIzsDUbzLVW0oVSqL6nM0+DMZcSIrFhSrURq7aI1GsVfVtlmAAAAAAHTbxdwdqfdUz8CmZanHcPUffMboYRpt4u4O1PuqZ+BTMtTjuHqPvmN0MIDfwAAAAAAAZxe74uLSezs6RpOmpw3aVT3PE6aGUXe74uLSezs6RpOmpw3aVT3PE6aGBaQAAAAD5zWU8ZVC/wBQS/TofRk+c1lPGVQv9QS/TofRkATJqkLQdyp9HoUN/fR4jpmOiLt5EPvWIv2Kqqv3FNnz5vRrEa094lS+jYxGsmGyUq1NvFIa5He/xOxVPWB/NnbpLaWipMvVKfKwFloyvSG58VrFXIcrVXBfJihzmYS8T/CynOGlp2epEGiUKmUuFgrZSVhwsd8rW4K7712zmQIDqty1vKVTZyoTMpL9wloL4sXIjNc5GMTFyoieHBDtWp4tB9BtVOUmI/CHUZbFieeNAxcn+1XFmR4EKYgRYEViPhxGOY9q+BWuTBUX1nzkX6XYi3f95YlKqfqWIyG/8Ht/ooH0hB4ZeYgzMvBmIL0fDiw2vY5PA5rkxRfvPMAAAAmLVL/V1mfaJn4WlOkxapf6usz7RM/C0CiaH9S0v2OD8CHKHF0P6lpfscH4EOUAAAAAABMeqW+rbNe0THwtKcJj1S31bZr2iY+FoHP6nLcNP++I3RQjfTAtTluGn/fEbooRvoHrzczAlJWYmY70ZCgw3RIjl8DWsTFV+5EPnEkCsW6tjMJKwkfO1KajRWsc7BGptvwVV8CNahYV+VoP0RYObgQ34RqjEbKsw8OQ7von3ZKKn3mS6nCgd2qtYrcRney0FstBVU2suKuU5U+1qNw+8DqGYS8T/CynOGjMJeJ/hZTnDS7AB80bUWVrdk6myQqkJsKYWE2MzIejkVrlVEVFT7UU+glia8lobKUaq5SK+PLN7rh5IrO8iJpIpieqPoHd6RSK3DZ30rHdLxlRP7kZMWqv2I5uH3n86nC0HdqVV6HEf30tGbMQUVdvIi965E+xHJj94GR332ci0e3U5MIxfo9RRJqE7Dayl2oiY+dHJj6lQpu6G3Eraey8pAiRk/SMjCbBmYar3zkYmS2KnnRyeFfOdjt3YimWzojpCbVYUVju6S0w1MXQomGGOHlavgVPKRTWLF2+sHUkmkgTUFYSqsOflFc6GqJ/mb4MfKjsAPoYCE5S/u8OXgpDfNSkwqJhlxYCZX+zJT+h6ka8q9e1TnSUpOzkTK8MKQgZDsF87oSZWH3gXuDqFgpOoSNjaFK1CHEZNQ5RqRmvXFyO8K5S7e2dvAAAAAAJNlf3mXcbF/IKVkSbK/vMu42L+QUrIAAAAAAwq/6zkWqWOZUIDFdFpkfurkRMV7jETJfh6tpV+xDHLh7cStCrM1SKhGSHK1FWLDiOXBsOOzaTHzI9Fwx86IWpFhQ40KJCiMa9j2q1zXJijkVMFRUXwopGN4lx1YpU1HnrOy8Sdp7lV/0dvfR4GP8AdRvhe1PJht+cC0gfPyjXqXh2YYkgk/EWHCTJSXnIeWrPsxfg5ETyJjgctNX73jzeDIM3LQHO2k7jLtVVVfNl5e2Bdpnl6Vm4to7EVaSgNyphjEmJdETFXPgrlZKfa5MWp6zNLkZe28aqVqqWiZUlbHl4bYMWbykylylVUYj/AAJ6kwKOAgS522kCylq0WdiZEjOw+4TDl8ENccWRF+xq7S+ZFUvhj2RGNexyOa5EVrkXFFRfAqL5iXr07kpqcnZitWahte+M5XzMjije+XbV8JVwTb8KtXy+Axuj2+vEsSqU9sxMwIbP/wCOchKrW/Y1IiZTU+xFRAPoQfO6meNeR/1RD/NIdwj6oS38WFkMbTYTsP8A9jIDld6+/c5P6HX7A2XtdWrYUerMpU1EgtqsCamJp0PucPJSKkR7kc7JavnwQC4rU0Rles7VqU5yN+lSr4bXL4GvVO9d9y4KQPYa0MxYm2srNzUJ7EgRny87C/vIx3ePTDztXbRPOh9Fyfb2LnXWkjxK1RMhlSVqJHgOVGsmMlMEcirtI/ybe0oG7yU7KT8pAm5SOyNAjMR8OIxcWuavgVFPbPnlTrR3i3ezD5Vj5yRTLXKlpiHlQnKnhVqPRU2/O3w+c7a7VC29WErEhUxHf+YkB2V/V+H9AOoXteMa0vtSfA0+hrP1GfwofOOHR7bW5q8xPwaZMzsxNRMqJGZCSHCx8G27vWN8HnPo4xFRrUXyIgH9AAAAAOCtTuYr3u2Z6NTCdTX9RV/22H8Bu1qdzFe92zPRqYTqa/qKv+2w/gApMAASdftu/sdxcLpysSTr9t39juLhdOViAAAAAAAAAAAAAAeKLBhRmZEWG17d65Ecn8lPUg0qlwH5cGQlobl28pkJrV/miHIAAAAB4osGDGhqyLDY9i+FrkRyL9ynlAHEsoVEhv7pDpUk1+OOUkBiLj60Q5VEREwQ/QAAAAAAZDfp4tqtx0t0zT2rk/FjZ71TX5iIerfp4tqtx0t0zT2rk/FjZ71TX5iIBqgAAAAAAAP5VEcioqYou0qKeh+h6SsTun6OlcvfdyZj/PA5EAfy1rWtRGtRETwIm0h/QAAAAcXGolGjvy41Mk4jsccp8Fjlx9aoe7AlpeWYkOBBhwmb1jUan8kPOAAAAAAAAAAAAAAASdfj4x7HcXA/MKViSdfj4x7HcXA/MKBWIAAAAAAAB4JiWlplmRHgQ4rd69qOT+SnnAHGQKJRpd6PgUyUhv8ADlMgsav80Q5MAAAAAAAAAAAAAAAAAAAAAAAk25/xx204qofm2FZEm3P+OO2nFVD82wrIAAAAAAAAAAAAAAAAAAAAAAAAAAAAAAAADNr3/FvaPiGdI04C4Pxdyvtkx8Rz97/i3tHxDOkacBcH4u5X2yY+IDaAAAAAAAAAAAAAAAAAAAAAA9OZp1PmlxmJOBF4yG1/4op7gA9eBKSss3JgS8OGnmY1Gp/Q9gAAAAAAAEm6pf8AbLLcVNfiwrIk3VL/ALZZbipr8WAVkAAAAAAAAAAAAAAAD+VRHIqKmKLtKinofoekrE7p+jpXL33cmY/zwORAH8ta1rURrURE8CJtIf0AAAAAAAAAAAAAAASdYr94C0XGT34oViSdYr94C0XGT34oViAAAAAAAAB6sxJScymExLQoqf52I78T8l5CRlUwl5WDCT/hsa38MD2wAAAAAAAAAAAHiiwYUZmRFhte3euRHJ/JT1INKpcB+XBkJaG5dvKZCa1f5ohyAAAAAAAAAA6beLuDtT7qmfgUzLU47h6j75jdDCNNvF3B2p91TPwKZlqcdw9R98xuhhAb+AAAAAAAAAAAAAAAAAAAAAAAAAAAAAAAATFql/q6zPtEz8LSnSYtUv8AV1mfaJn4WgUTQ/qWl+xwfgQ5Q4uh/UtL9jg/AhygAAAAAAAAAAAAAAAAAAAAABx0SkUmK9HxKdKuengc6E1V/mqHvQ4cOG1Gw2Na1PAiJgn9D+wAAAAAAAABJsr+8y7jYv5BSsiTZX95l3GxfyClZAAAAAAAAAerMSUnMphMS0KKn+diO/E/JeQkZVMJeVgwk/4bGt/DA9sAAAAPBMS0tMsyI8CHFbvXtRyfyU84A4yBRKNLvR8CmSkN/hymQWNX+aIcmAAAAHiiwYMaGrIsNj2L4WuRHIv3KccyhUSG/ukOlSTX445SQGIuPrRDlgB+IiImCH6AAAAAAAcFancxXvdsz0amE6mv6ir/ALbD+A3a1O5ive7Zno1MJ1Nf1FX/AG2H8AFJgACTr9t39juLhdOViSdftu/sdxcLpysQAAAAAAAAAAAAAAAAAAAAAAAAAAAAADIb9PFtVuOlumae1cn4sbPeqa/MRD1b9PFtVuOlumae1cn4sbPeqa/MRANUAAAAAAAAAAAAAAAAAAAAAAAAAAAAAAAAJOvx8Y9juLgfmFKxJOvx8Y9juLgfmFArEAAAAAAAAAAAAAAAAAAAAAAAAAAAAAAAAAASbc/447acVUPzbCsiTbn/ABx204qofm2FZAAAAAAAAAAAAAAAAAAAAAAAAAAAAAAAAAZte/4t7R8QzpGnAXB+LuV9smPiOfvf8W9o+IZ0jTgLg/F3K+2THxAbQAAAAAAAAAAAAAAAAAAAAAAAAAAAAAAAASbql/2yy3FTX4sKyJN1S/7ZZbipr8WAVkAAAAAAAAAAAAAAAAAAAAAAAAAAAAAAAAAAJOsV+8BaLjJ78UKxJOsV+8BaLjJ78UKxAAAAAAAAAAAAAAAAAAAAAAAAAAAAAAAAA6beLuDtT7qmfgUzLU47h6j75jdDCNNvF3B2p91TPwKZlqcdw9R98xuhhAb+AAAAAAAAAAAAAAAAAAAAAAAAAAAAAAAATFql/q6zPtEz8LSnSYtUv9XWZ9omfhaBRND+paX7HB+BDlDi6H9S0v2OD8CHKAAAAAAAAAAAAAAAAAAAAAAAAAAAAAAAAASbK/vMu42L+QUrIk2V/eZdxsX8gpWQAAAAAAAAAAAAAAAAAAAAAAAAAAAAAAAAHBWp3MV73bM9GphOpr+oq/7bD+A3a1O5ive7Zno1MJ1Nf1FX/bYfwAUmAAJOv23f2O4uF05WJJ1+27+x3FwunKxAAAAAAAAAAAAAAAAAAAAAAAAAAAAAAMhv08W1W46W6Zp7Vyfixs96pr8xEPVv08W1W46W6Zp7Vyfixs96pr8xEA1QAAAAAAAAAAAAAAAAAAAAAAAAAAAAAAAAk6/Hxj2O4uB+YUrEk6/Hxj2O4uB+YUCsQAAAAAAAAAAAAAAAAAAAAAAAAAAAAAAAAABJtz/jjtpxVQ/NsKyJNuf8cdtOKqH5thWQAAAAAAAAAAAAAAAAAAAAAAAAAAAAAAAAGbXv+Le0fEM6RpwFwfi7lfbJj4jn73/FvaPiGdI04C4Pxdyvtkx8QG0AAAAAAAAAAAAAAAAAAAAAAAAAAAAAAAAEm6pf9sstxU1+LCsiTdUv+2WW4qa/FgFZAAAAAAAAAAAAAAAAAAAAAAAAAAAAAAAAAACTrFfvAWi4ye/FCsSTrFfvAWi4ye/FCsQAAAAAAAAAAAAAAAAAAAAAAAAAAAAAAAAOm3i7g7U+6pn4FMy1OO4eo++Y3QwjTbxdwdqfdUz8CmZanHcPUffMboYQG/gAAAAAAAAAAAAAAAAAAAAAAAAAAAAAAAExapf6usz7RM/C0p0mLVL/AFdZn2iZ+FoFE0P6lpfscH4EOUOLof1LS/Y4PwIcoAAAAAAAAAAAAAAAAAAAAAAAAAAAAAAAABJsr+8y7jYv5BSsiTZX95l3GxfyClZAAAAAAAAAAAAAAAAAAAAAAAAAAAAAAAAAcFancxXvdsz0amE6mv6ir/tsP4DdrU7mK97tmejUwnU1/UVf9th/ABSYAAk6/bd/Y7i4XTlYkd6oWdiy1t6BEY1qrL0+HGZjjtuSM9cF+zvT1NkhbDgqk6EX5gFngjDZIWw4KpOhF+YNkhbDgqk6EX5gFngjDZIWw4KpOhF+YNkhbDgqk6EX5gFngjDZIWw4KpOhF+YNkhbDgqk6EX5gFngjDZIWw4KpOhF+YNkhbDgqk6EX5gFngjDZIWw4KpOhF+YNkhbDgqk6EX5gFngjDZIWw4KpOhF+YNkhbDgqk6EX5gFngjDZIWw4KpOhF+YNkhbDgqk6EX5gFngjDZIWw4KpOhF+YNkhbDgqk6EX5gFngjDZIWw4KpOhF+YNkhbDgqk6EX5gFngjDZIWw4KpOhF+YNkhbDgqk6EX5gFngjDZIWw4KpOhF+YNkhbDgqk6EX5gG436eLarcdLdM09q5PxY2e9U1+YiEv2tvntHaqhzFInJCnwoMZ0NznwmxEenc3I5MMp6p4U8x5LK32WksxQZKjSlPp0SBLd0yHxWxFevdHrEXHJeieF3mAvAEYbJC2HBVJ0IvzBskLYcFUnQi/MAs8EYbJC2HBVJ0IvzBskLYcFUnQi/MAs8EYbJC2HBVJ0IvzBskLYcFUnQi/MAs8EYbJC2HBVJ0IvzBskLYcFUnQi/MAs8EYbJC2HBVJ0IvzBskLYcFUnQi/MAs8EYbJC2HBVJ0IvzBskLYcFUnQi/MAs8EYbJC2HBVJ0IvzBskLYcFUnQi/MAs8EYbJC2HBVJ0IvzBskLYcFUnQi/MAs8EYbJC2HBVJ0IvzBskLYcFUnQi/MAs8EYbJC2HBVJ0IvzBskLYcFUnQi/MAs8EYbJC2HBVJ0IvzBskLYcFUnQi/MAs8EYbJC2HBVJ0IvzBskLYcFUnQi/MAs8k6/Hxj2O4uB+YU4HZIWw4KpOhF+YZ1ay8Wr2prlMq85KykKNJNYkNkJHox2Q/uiZWU5V8K+QD6KAjDZIWw4KpOhF+YNkhbDgqk6EX5gFngjDZIWw4KpOhF+YNkhbDgqk6EX5gFngjDZIWw4KpOhF+YNkhbDgqk6EX5gFngjDZIWw4KpOhF+YNkhbDgqk6EX5gFngjDZIWw4KpOhF+YNkhbDgqk6EX5gFngjDZIWw4KpOhF+YNkhbDgqk6EX5gFngjDZIWw4KpOhF+YNkhbDgqk6EX5gFngjDZIWw4KpOhF+YNkhbDgqk6EX5gFngjDZIWw4KpOhF+YNkhbDgqk6EX5gFngjDZIWw4KpOhF+YNkhbDgqk6EX5gFngjDZIWw4KpOhF+YNkhbDgqk6EX5gFngjDZIWw4KpOhF+YNkhbDgqk6EX5gFngjDZIWw4KpOhF+YNkhbDgqk6EX5gHO3P+OO2nFVD82wrI+ddmrxKvZy01Ur8rKykSYnmxkiQ4iPWG3u0RIq5KNci7St2tvwGi7JC2HBVJ0IvzALPBGGyQthwVSdCL8wbJC2HBVJ0IvzALPBGGyQthwVSdCL8wbJC2HBVJ0IvzALPBGGyQthwVSdCL8wbJC2HBVJ0IvzALPBGGyQthwVSdCL8wbJC2HBVJ0IvzALPBGGyQthwVSdCL8wbJC2HBVJ0IvzALPBGGyQthwVSdCL8wbJC2HBVJ0IvzALPBGGyQthwVSdCL8wbJC2HBVJ0IvzALPBGGyQthwVSdCL8wbJC2HBVJ0IvzALPBGGyQthwVSdCL8wbJC2HBVJ0IvzALPBGGyQthwVSdCL8wbJC2HBVJ0IvzALPBGGyQthwVSdCL8wbJC2HBVJ0IvzALPBGGyQthwVSdCL8wbJC2HBVJ0IvzAKGvf8W9o+IZ0jTgLg/F3K+2THxE92lvwtNaKhz1ImqdTocGaYjXvhtiI9ERyO2sp6p5PMenY++O0NkqJDpMlISEWCyK96PjNiK/F64r+q9EAvgEYbJC2HBVJ0IvzBskLYcFUnQi/MAs8EYbJC2HBVJ0IvzBskLYcFUnQi/MAs8EYbJC2HBVJ0IvzBskLYcFUnQi/MAs8EYbJC2HBVJ0IvzBskLYcFUnQi/MAs8EYbJC2HBVJ0IvzBskLYcFUnQi/MAs8EYbJC2HBVJ0IvzBskLYcFUnQi/MAs8EYbJC2HBVJ0IvzBskLYcFUnQi/MAs8EYbJC2HBVJ0IvzBskLYcFUnQi/MAs8EYbJC2HBVJ0IvzBskLYcFUnQi/MAs8EYbJC2HBVJ0IvzBskLYcFUnQi/MAs8EYbJC2HBVJ0IvzBskLYcFUnQi/MAs8EYbJC2HBVJ0IvzBskLYcFUnQi/MAs8k3VL/ALZZbipr8WHBbJC2HBVJ0IvzDObd3iVe28WnxKhKykFZRsRIaQEemPdMFXKy3O3oH0VBGGyQthwVSdCL8wbJC2HBVJ0IvzALPBGGyQthwVSdCL8wbJC2HBVJ0IvzALPBGGyQthwVSdCL8wbJC2HBVJ0IvzALPBGGyQthwVSdCL8wbJC2HBVJ0IvzALPBGGyQthwVSdCL8wbJC2HBVJ0IvzALPBGGyQthwVSdCL8wbJC2HBVJ0IvzALPBGGyQthwVSdCL8wbJC2HBVJ0IvzALPBGGyQthwVSdCL8wbJC2HBVJ0IvzALPBGGyQthwVSdCL8wbJC2HBVJ0IvzALPBGGyQthwVSdCL8wbJC2HBVJ0IvzALPBGGyQthwVSdCL8wbJC2HBVJ0IvzALPBGGyQthwVSdCL8wbJC2HBVJ0IvzALPBGGyQthwVSdCL8wbJC2HBVJ0IvzAOesV+8BaLjJ78UKxPnXSrxavTLZTtqYMrKOm5l0ZXwnNf3JO7eHBEci7Xk2zRdkhbDgqk6EX5gFngjDZIWw4KpOhF+YNkhbDgqk6EX5gFngjDZIWw4KpOhF+YNkhbDgqk6EX5gFngjDZIWw4KpOhF+YNkhbDgqk6EX5gFngjDZIWw4KpOhF+YNkhbDgqk6EX5gFngjDZIWw4KpOhF+YNkhbDgqk6EX5gFngjDZIWw4KpOhF+YNkhbDgqk6EX5gFngjDZIWw4KpOhF+YNkhbDgqk6EX5gFngjDZIWw4KpOhF+YNkhbDgqk6EX5gFngjDZIWw4KpOhF+YNkhbDgqk6EX5gFngjDZIWw4KpOhF+YNkhbDgqk6EX5gFngjDZIWw4KpOhF+YNkhbDgqk6EX5gFngjDZIWw4KpOhF+YNkhbDgqk6EX5gFO3i7g7U+6pn4FMy1OO4eo++Y3QwjG63f1ams0ioUyPTaYyFNy74L3MbFRyNiJgqtxeqYnA2Ivar1jKTHpshJSMaFFmnTDnR2vVyOc1rMEyXNTDBoH0BBGGyQthwVSdCL8wbJC2HBVJ0IvzALPBGGyQthwVSdCL8wbJC2HBVJ0IvzALPBGGyQthwVSdCL8wbJC2HBVJ0IvzALPBGGyQthwVSdCL8wbJC2HBVJ0IvzALPBGGyQthwVSdCL8wbJC2HBVJ0IvzALPBGGyQthwVSdCL8wbJC2HBVJ0IvzALPBGGyQthwVSdCL8wbJC2HBVJ0IvzALPBGGyQthwVSdCL8wbJC2HBVJ0IvzALPBGGyQthwVSdCL8wbJC2HBVJ0IvzALPBGGyQthwVSdCL8wbJC2HBVJ0IvzALPBGGyQthwVSdCL8wbJC2HBVJ0IvzALPBGGyQthwVSdCL8wbJC2HBVJ0IvzALPJi1S/1dZn2iZ+Fp03ZIWw4KpOhF+YdBt3ebWrbQZCFUJSTgtlXvczuDXoqq9ERcctzvMBfND+paX7HB+BDlCKJTVD2ulZWXl2UulK2FCZDaqsi4qjUw2+/+w9jZIWw4KpOhF+YBZ4Iw2SFsOCqToRfmDZIWw4KpOhF+YBZ4Iw2SFsOCqToRfmDZIWw4KpOhF+YBZ4Iw2SFsOCqToRfmDZIWw4KpOhF+YBZ4Iw2SFsOCqToRfmDZIWw4KpOhF+YBZ4Iw2SFsOCqToRfmDZIWw4KpOhF+YBZ4Iw2SFsOCqToRfmDZIWw4KpOhF+YBZ4Iw2SFsOCqToRfmDZIWw4KpOhF+YBZ4Iw2SFsOCqToRfmDZIWw4KpOhF+YBZ4Iw2SFsOCqToRfmDZIWw4KpOhF+YBZ4Iw2SFsOCqToRfmDZIWw4KpOhF+YBZ4Iw2SFsOCqToRfmDZIWw4KpOhF+YBZ4Iw2SFsOCqToRfmDZIWw4KpOhF+YBzsr+8y7jYv5BSsj51w7xKuy3a2wSVlVnVc5e5Kj+499B7h4MrHwLj4fCaLskLYcFUnQi/MAs8EYbJC2HBVJ0IvzBskLYcFUnQi/MAs8EYbJC2HBVJ0IvzBskLYcFUnQi/MAs8EYbJC2HBVJ0IvzBskLYcFUnQi/MAs8EYbJC2HBVJ0IvzBskLYcFUnQi/MAs8EYbJC2HBVJ0IvzBskLYcFUnQi/MAs8EYbJC2HBVJ0IvzBskLYcFUnQi/MAs8EYbJC2HBVJ0IvzBskLYcFUnQi/MAs8EYbJC2HBVJ0IvzBskLYcFUnQi/MAs8EYbJC2HBVJ0IvzBskLYcFUnQi/MAs8EYbJC2HBVJ0IvzBskLYcFUnQi/MAs8EYbJC2HBVJ0IvzBskLYcFUnQi/MAs8EYbJC2HBVJ0IvzBskLYcFUnQi/MArK1O5ive7Zno1MJ1Nf1FX/bYfwGb1DVB2sn5Cck4lLpbWTECJCcrWRcUSI1WqqYv8O2aDqaojlpdo4WCYNmYDkXy4uaqf/AFNAACPtUJJtj22s61Xqnd5GHCX7E7s7b/3HnzEUjhma0GHlv8AN3Nk+Ih9MbmBg+YikcMzWgwZiKRwzNaDDeABg+YikcMzWgwZiKRwzNaDDeABg+YikcMzWgwZiKRwzNaDDeABg+YikcMzWgwZiKRwzNaDDeABg+YikcMzWgwZiKRwzNaDDeABg+YikcMzWgwZiKRwzNaDDeABg+YikcMzWgwZiKRwzNaDDeABg+YikcMzWgwZiKRwzNaDDeABg+YikcMzWgwZiKRwzNaDDeABg+YikcMzWgwZiKRwzNaDDeABg+YikcMzWgwZiKRwzNaDDeABLttbqafZyz01U4NSmIr4T4aIx7Woi5b0b5PWeSx101OtBZuQqsWpzEJ8fumLGsaqJkRHM2lX1GpXvbhKjxkDpUPYuo3AUT/mOneB0vMRSOGZrQYMxFI4ZmtBhvAAwfMRSOGZrQYMxFI4ZmtBhvAAwfMRSOGZrQYMxFI4ZmtBhvAAwfMRSOGZrQYMxFI4ZmtBhvAAwfMRSOGZrQYMxFI4ZmtBhvAAwfMRSOGZrQYMxFI4ZmtBhvAAwfMRSOGZrQYMxFI4ZmtBhvAAwfMRSOGZrQYMxFI4ZmtBhvAAwfMRSOGZrQYMxFI4ZmtBhvAAwfMRSOGZrQYMxFI4ZmtBhvAAwfMRSOGZrQYMxFI4ZmtBhvAAwfMRSOGZrQYMxFI4ZmtBhvAAwfMRSOGZrQYZfbOw0pZ20FJpkGcixWTbYaue5qIrcuIrNrAsgnC9vdzZji4PTKBy+YikcMzWgwZiKRwzNaDDeABg+YikcMzWgwZiKRwzNaDDeABg+YikcMzWgwZiKRwzNaDDeABg+YikcMzWgwZiKRwzNaDDeABg+YikcMzWgwZiKRwzNaDDeABg+YikcMzWgwZiKRwzNaDDeABg+YikcMzWgwZiKRwzNaDDeABg+YikcMzWgwZiKRwzNaDDeABg+YikcMzWgwZiKRwzNaDDeABg+YikcMzWgwZiKRwzNaDDeABg+YikcMzWgwZiKRwzNaDDeABg+YikcMzWgwZiKRwzNaDDeABg+YikcMzWgwZiKRwzNaDDeABG1k7DyldtbV6LFnIsKHKNjq2I1qK53coqQ0xRfOi4mo5iKRwzNaDDh7sfGfani538ywpADB8xFI4ZmtBgzEUjhma0GG8ADB8xFI4ZmtBgzEUjhma0GG8ADB8xFI4ZmtBgzEUjhma0GG8ADB8xFI4ZmtBgzEUjhma0GG8ADB8xFI4ZmtBgzEUjhma0GG8ADB8xFI4ZmtBgzEUjhma0GG8ADB8xFI4ZmtBgzEUjhma0GG8ADB8xFI4ZmtBgzEUjhma0GG8ADB8xFI4ZmtBgzEUjhma0GG8ADB8xFI4ZmtBgzEUjhma0GG8ADB8xFI4ZmtBgzEUjhma0GG8ADB8xFI4ZmtBgzEUjhma0GG8ACZrV3RU2hWeqFThVSYivl2NcjHMaiLi5G7eHrPRsPdZT7S0CHUo1SjwXuixGZDGtVMGLh5TbLzNwtd4lnSNOGub3ES/tMb4gOt5iKRwzNaDBmIpHDM1oMN4AGD5iKRwzNaDBmIpHDM1oMN4AGD5iKRwzNaDBmIpHDM1oMN4AGD5iKRwzNaDBmIpHDM1oMN4AGD5iKRwzNaDBmIpHDM1oMN4AGD5iKRwzNaDBmIpHDM1oMN4AGD5iKRwzNaDBmIpHDM1oMN4AGD5iKRwzNaDBmIpHDM1oMN4AGD5iKRwzNaDBmIpHDM1oMN4AGD5iKRwzNaDBmIpHDM1oMN4AGD5iKRwzNaDBmIpHDM1oMN4AGD5iKRwzNaDBmIpHDM1oMN4AGD5iKRwzNaDDLrxbDylko1NZLzkWOky2KrstqJk5Com1h6yySb7+f2qz3FzH4sA5jMRSOGZrQYMxFI4ZmtBhvAAwfMRSOGZrQYMxFI4ZmtBhvAAwfMRSOGZrQYMxFI4ZmtBhvAAwfMRSOGZrQYMxFI4ZmtBhvAAwfMRSOGZrQYMxFI4ZmtBhvAAwfMRSOGZrQYMxFI4ZmtBhvAAwfMRSOGZrQYMxFI4ZmtBhvAAwfMRSOGZrQYMxFI4ZmtBhvAAwfMRSOGZrQYMxFI4ZmtBhvAAwfMRSOGZrQYMxFI4ZmtBhvAAwfMRSOGZrQYMxFI4ZmtBhvAAwfMRSOGZrQYMxFI4ZmtBhvAAwfMRSOGZrQYMxFI4ZmtBhvAAjej2GlKhbqfs6+cishS7o6JGRqK5e5eDFPBtmoZiKRwzNaDDiLKeOeucZOfiUeBg+YikcMzWgwZiKRwzNaDDeABg+YikcMzWgwZiKRwzNaDDeABg+YikcMzWgwZiKRwzNaDDeABg+YikcMzWgwZiKRwzNaDDeABg+YikcMzWgwZiKRwzNaDDeABg+YikcMzWgwZiKRwzNaDDeABg+YikcMzWgwZiKRwzNaDDeABg+YikcMzWgwZiKRwzNaDDeABg+YikcMzWgwZiKRwzNaDDeABg+YikcMzWgwZiKRwzNaDDeABg+YikcMzWgwZiKRwzNaDDeABg+YikcMzWgwZiKRwzNaDDeABOFfuaplKolSqEOrTL3S0tEitY5jURysbjguB127+7WRtXRpifj1CPAdDnHwUaxrVRUaxrsdvy98URbjcfaH3dH+BToNxu5Ke96xeihgcdmIpHDM1oMGYikcMzWgw3gAYPmIpHDM1oMGYikcMzWgw3gAYPmIpHDM1oMGYikcMzWgw3gAYPmIpHDM1oMGYikcMzWgw3gAYPmIpHDM1oMGYikcMzWgw3gAYPmIpHDM1oMGYikcMzWgw3gAYPmIpHDM1oMGYikcMzWgw3gAYPmIpHDM1oMGYikcMzWgw3gAYPmIpHDM1oMGYikcMzWgw3gAYPmIpHDM1oMGYikcMzWgw3gAYPmIpHDM1oMGYikcMzWgw3gAYPmIpHDM1oMGYikcMzWgw3gAYPmIpHDM1oMM4vEu/k7JQKdEl56NH+kPiNcj2omGQiLtYesr8wC/n9ioHHR/haB/MlcfSpiTlo7qxNIsSCx6ojG4IrkxPZzEUjhma0GG0Uj6qp/ssL4UOQAwfMRSOGZrQYMxFI4ZmtBhvAAwfMRSOGZrQYMxFI4ZmtBhvAAwfMRSOGZrQYMxFI4ZmtBhvAAwfMRSOGZrQYMxFI4ZmtBhvAAwfMRSOGZrQYMxFI4ZmtBhvAAwfMRSOGZrQYMxFI4ZmtBhvAAwfMRSOGZrQYMxFI4ZmtBhvAAwfMRSOGZrQYMxFI4ZmtBhvAAwfMRSOGZrQYMxFI4ZmtBhvAAwfMRSOGZrQYMxFI4ZmtBhvAAwfMRSOGZrQYMxFI4ZmtBhvAAwfMRSOGZrQYMxFI4ZmtBhvAAjeHYaUfeKtl1nIqQUc5O75KZe1AWL4PB4do1DMRSOGZrQYcPL+Pt3GRPyalIAYPmIpHDM1oMGYikcMzWgw3gAYPmIpHDM1oMGYikcMzWgw3gAYPmIpHDM1oMGYikcMzWgw3gAYPmIpHDM1oMGYikcMzWgw3gAYPmIpHDM1oMGYikcMzWgw3gAYPmIpHDM1oMGYikcMzWgw3gAYPmIpHDM1oMGYikcMzWgw3gAYPmIpHDM1oMGYikcMzWgw3gAYPmIpHDM1oMGYikcMzWgw3gAYPmIpHDM1oMGYikcMzWgw3gAYPmIpHDM1oMGYikcMzWgw3gAYPmIpHDM1oMGYikcMzWgw3gAT1U7kqVJ02emm1eZc6BLxIiNVjcFVjVdgv8jt2pqhIlItFFx23TcFuH8LFX/wCTv9ofqCsewzHRqdG1Nf1FX/bYfwAUmAAJKv8AN3Nk+Ih9MbmYZf5u5snxEPpjcwAAAAAAAAAAAAAAAAAAAAAAAAAAAAADM73twlR4yB0qHsXUbgKJ/wAx07z173twlR4yB0qHsXUbgKJ/zHTvA0QAAAAAAAAAAAAAAAAAAAAAAAAAAAAAAAAnC9vdzZji4PTKUeThe3u5sxxcHplAo8AAAAAAAAAAAAAAAAAAAAAAAAAAAAAAAAAATfdj4z7U8XO/mWFIE33Y+M+1PFzv5lhSAAAAAAAAAAAAAAAAAAAAAAAAAAAAAAAAAHRLzNwtd4lnSNOGub3ES/tMb4jmbzNwtd4lnSNOGub3ES/tMb4gNUAAAAAAAAAAAAAAAAAAAAAAAAAAAAAAAAJvv5/arPcXMfiwpAm+/n9qs9xcx+LAKQAAAAAAAAAAAAAAAAAAAAAAAAAAAAAAAAAAE4WU8c9c4yc/Eo8nCynjnrnGTn4lHgAAAAAAAAAAAAAAAAAAAAAAAAAAAAAAAAdWtxuPtD7uj/Ap0G43clPe9YvRQzv1uNx9ofd0f4FOg3G7kp73rF6KGBs4AAAAAAAAAAAAAAAAAAAAAAAAAAAAAAABgF/P7FQOOj/C038wC/n9ioHHR/haBt9I+qqf7LC+FDkDj6R9VU/2WF8KHIAAAAAAAAAAAAAAAAAAAAAAAAAAAAAAAAATfL+Pt3GRPyalIE3y/j7dxkT8mpSAAAAAAAAAAAAAAAAAAAAAAAAAAAAAAAAAHD2h+oKx7DMdGp0bU1/UVf8AbYfwHebQ/UFY9hmOjU6Nqa/qKv8AtsP4AKTAAElX+bubJ8RD6Y3Mwy/zdzZPiIfTG5gAAAAAAAAAAB/LnNY1znORGoiqqquCIieVTK529GXjVB1Ps7SJisR2r3zoa5EFPty8FxT7cET7TT5mXgzUvHl47EfCiw3Q3tXwOa5MFT78Tr1krKSFl6U2Slu/crldFjq1EdEcq7Sr6k2kQDolQvEtdRYP0ir2IiQ5fFMYsOZR7Wou+yWuRPvwO32Wt7Z60+MOSjuZMtZlOloqZMRE8qp4UcnqXaO4RYUKNCiQorGvhvarXtVMUc1yYKip5lIfqSRrKW0m/oSuYshUHLB21xyEdi1FXyordpfOBcgP5a5HNa5PAqYp95/QAAAAAAAAAAAZne9uEqPGQOlQ9i6jcBRP+Y6d569724So8ZA6VD2LqNwFE/5jp3gaIAAAAAAAAAAAAA4Wu2gpNAkXTlRmWwoaLg1PC57t61PKpm0O8u0NTY6NQ7FzkxLbeRHivyEdh4cERFRfuVT+7R2HqNet/TZmfiLGo0OAr0h+BGOh4YwlTy5aqiqvlTa8hrsOHDhMZDhsa1jWojWtTBERPAiIngRAMPh30pKTv0St2bmpJ6YZeDspzcfAuQ9rFw+82Ol1Sn1aRgzsjMNjQIiYte37PCiou2ip5UUz29qz8rU7KzU6sNEmZFEiw4iJ32Tjg5qr5lRcfWhltyNbjy9dmqU56rAmoDojW+aLDw209bccfuAqQAAAAAAAAAAAAAJwvb3c2Y4uD0ylHk4Xt7ubMcXB6ZQKPAAAAAAAAAAAAADpdqreUGzCMZNxHxZl6YsloKI6IqL4FXFURE+1fD5DuZj1jLBzstaeuVmvKk1MtmcJWK9EVHIqZXdUTbwXBURE/u7aAfkS8G2zoSTEKwE33Dw989yxFTz5KMxT+R46JfTQ52abLVKSjU97nZOW5yRIbV8zlwarf5Yec2cmm/Cz8rLTVPrECGjHzKuhTCImCOc1MWuX/MqYovqApRrmuajmqitVMUVNtFRT+jH7mK3HqFmIsnHernSMfubFVdvuTkymp9y4on2GwAAAAAAAAAAAAAAE33Y+M+1PFzv5lhSBN92PjPtTxc7+ZYUgAAAAAAAAAAAA8EzNS8pLxZiYjMhQobVc+I9Ua1rU8KqqnnOJrtIl61R56mx9pkxBVmVhjku8LXInnaqYoBnS3nx6nNxZazNnZqppDXB8dXdxhJ5sFVF8P24HqT95toaEsJa9Y2NLwnuw7tDjo9vqTBFRV+zKNNoFDkqFSZWnSbESHCYiK7DBXu8r3favhU9qp02UqlPmpGbh5cCPDVj2/YvlTzKnkUDiLN2uoVpZd8WmzOU5mHdYT0yYkPHwYovk+1MUOzESWJnZuiW3pjWOVHfTmysZqeBzIj+5uRfP50+0tsAAAAAAAAAAAAAA6JeZuFrvEs6Rpw1ze4iX9pjfEczeZuFrvEs6Rpw1ze4iX9pjfEBqgAAAAAAAAAAAAAcHWrR0OhQe61KfhQEwxa1Vxe7+FqYqv3IeK1EjW56jTECj1H6HOLgrIioioqJ4WquCq3HzptodHs5dRS5KMk/W47qpPuXKc6MquhI71OxVy/a7+QHDyl7zqxael0ulyCMlo0yjIkaPtvc3y5LWrg31qqm4kXXeQ0deFSW+RJqKuixylogAAAAAAAAAAAAAAm+/n9qs9xcx+LCkCb7+f2qz3FzH4sApAAAAAAAAAAAAAAAMvtjY20to6pChwrQul6S6H/bS7UVHIqeFERuGWjv8y7QHuWkvOstQkfD+k/S5lNruEuqPwX/M7wN+3y/YeO7u2c/ayFVZmYloUCHBjsZBYzFVRFbiuU5fCv3IZ7eRYygWasTBbT5VO6un4SPmH99Ff3jvC7yJ9iYIc1cUxEs/VX+efw/lDb1gbgAAAAAAAAAAAAAAACcLKeOeucZOfiUeThZTxz1zjJz8SjwAAAAAAAAAAAAADwx48CXgvjR4rIcNiYue9yNa1POqr4DIbS3y0GnZcGlsWfmExTLRciA1f4vC77tr7TxzF2NZrdZjx7R2ijTUiyKqy8CH3qub5MUwRrPMuSm35zML36PTKPWKVKU+Uhy8FtPRclieFe6O23L4VX7VApSyVVm6xZymVCabDbGmIWW9GIqNTFVwwRVU7GdTsIxGWNs+ieWQhLpNx/8Ak7YAAAAAAAAAAAAAAdWtxuPtD7uj/Ap0G43clPe9YvRQzv1uNx9ofd0f4FOg3G7kp73rF6KGBs4AAAAAAAAAAAAAcHWrR0OhQe61KfhQEwxa1Vxe7+FqYqv3IeK1EjW56jTECj1H6HOLgrIioioqJ4WquCq3HzptodHs5dRS5KMk/W47qpPuXKc6MquhI71OxVy/a7+QHDyl7zqxael0ulyCMlo0yjIkaPtvc3y5LWrg31qqm4kXXeQ0deFSW+RJqKuixylogAAAAAAAAAAAAAAwC/n9ioHHR/hab+YBfz+xUDjo/wALQNvpH1VT/ZYXwocgcfSPqqn+ywvhQ5AAAAAAAAAAAAABn1t7N2nrqycGl15ZKVXFs1DTFqqnhykVu2vmVuKIB7to7f2Ys8j2zU62JMJ//NBwiRMfMqJtN+9UOuWDvCnbW1qpQlkoUvKQJdrobcVdEVyuwxc7aT7sDr9pbvrPWasFWosvB7vN9yh5U1Gwc/FYjccnyNT1fepwdwzEWdr7/NBgJ/NXdQFJgAAAAAAAAAAAAAAAm+X8fbuMifk1KQJvl/H27jIn5NSkAAAAAAAAAAAAAADwx48CXgvjR4rIcNiYue9yNa1POqr4DIbS3y0GnZcGlsWfmExTLRciA1f4vC77tr7TxzF2NZrdZjx7R2ijTUiyKqy8CH3qub5MUwRrPMuSm35zML36PTKPWKVKU+Uhy8FtPRclieFe6O23L4VX7VApSyVVm6xZymVCabDbGmIWW9GIqNTFVwwRVU7GdTsIxGWNs+ieWQhLpNx/+TtgAAAAAAAAAAAAABw9ofqCsewzHRqdG1Nf1FX/AG2H8B3m0P1BWPYZjo1Ojamv6ir/ALbD+ACkwABJV/m7myfEQ+mNzMMv83c2T4iH0xuYAAAAAAAAAAAADhbQJXFpUZKK6Ck9lM7msb/9eGUmVj4fJiBy8SJDhQ3xIj2sY1quc5VwRETbVVVfAiEdU+lRrdW/nXwWO+iRZx8aNEw2mQEdtY/a5NpPtNJtPTr1puVVlShQZunp30xLU+IkJ8VqbeGLmq5fUiLichYS39ipZjKRDpzqPEWJk5MRctr3+Dvoi4LlfxYAbeAAAAAAAAAAAAAzO97cJUeMgdKh7F1G4Cif8x07z173twlR4yB0qHsXUbgKJ/zHTvA0QAAAAAAAAAAAAAAAHT7fx2S9i6+96oiLJvZt+eJ3if1Unq5aRiTFr1mEYqslpSI5zvIivwYiffip3m+m0eMGUs5KIsSPHeyLHa3FVwRf7NmCeFXLt4fYh3e7ax+tmh/27f8At03kxJn/ACYJ3sP/ANuO39uIGigAAAAAAAAAAAABOF7e7mzHFwemUo8nC9vdzZji4PTKBR4AAAAAAAAAAAAAAABhd+0djaJSICqmW+cc9E8uDGKi/EboSpbiam7dW6g0mlty4UqqwGvTbamC/wBrFVd6i7X24Ad7uMkYkKg1ObcxUSPNo1ir/eSE3wp9mLjcDiaHR5SiUmTpsqi9yl4eSir4XL4XOX7VVcVOWAAAAAAAAAAAAAAJvux8Z9qeLnfzLCkCb7sfGfani538ywpAAAAAAAAAAAAAAAHoVOoy1Mp03PTL0bCl4Toj1VcNpqY4J9q+Q4m07bUOlJdLPvlWzHd07osx+p3PJXHwIq444GL2qp94kZGxrRSP6SpkFct8rIRkhNVU8DnYNV6on9AOoXY2dm7QWrZU4jFSWk46TMV/kWKi5TGIvnx21+xCvDKLCW/sdPQZakyMv+jYqJkwpV6JkuX/ACvT9ZV+3BVU1cAAAAAAAAAAAAAA6JeZuFrvEs6Rpw1ze4iX9pjfEczeZuFrvEs6Rpw1ze4iX9pjfEBqgAAAAAAAAAAAAAAAI1u2TG8al8fMf0hPLKI2u08Y9L46Z6J5ZIAAAAAAAAAAAAAAJvv5/arPcXMfiwpAm+/n9qs9xcx+LAKQAAAAAAAAAAAAAAABj99u4+D7whfA89S4tP8AuxUV89Sf0bD277dx8H3hC+B56txm5aoe839EwDagAAAAAAAAAAAAAAAThZTxz1zjJz8SjycLKeOeucZOfiUeAAAAAAAAAAAAAACW79d0lM93J0jipCW79d0lM93J0jgN+sWmFkLOp/6bL/1hodmOtWM3I2d92S3RodlAAAAAAAAAAAAAAOrW43H2h93R/gU6DcbuSnvesXooZ363G4+0Pu6P8CnQbjdyU971i9FDA2cAAAAAAAAAAAAAAAEa3bJjeNS+PmP6QnllEbXaeMel8dM9E8skAAAAAAAAAAAAAAGAX8/sVA46P8LTfzAL+f2KgcdH+FoG30j6qp/ssL4UOQOPpH1VT/ZYXwocgAAAAAAAAAAAAAAdBvQ3CVzi4fStMwuET+1tGv8AllU/mrzT70Nwlc4uH0rTMbhP17R+qV/+wCjAAAAAAAAAAAAAAAATfL+Pt3GRPyalIE3y/j7dxkT8mpSAAAAAAAAAAAAAAAJbv13SUz3cnSOKkJbv13SUz3cnSOA36xaYWQs6n/psv/WGh2Y61YzcjZ33ZLdGh2UAAAAAAAAAAAAAA4e0P1BWPYZjo1Ojamv6ir/tsP4DvNofqCsewzHRqdG1Nf1FX/bYfwAUmAAJKv8AN3Nk+Ih9MbmYZf5u5snxEPpjcwAAAAAAAAAAAA/D9AEoX1UeBJWml5yCxGpOy+XERPLEYuSrvvTD7yryU77KtAnLSSsnBejvoctkxFTyRIi5St+5MANruvq0xVLGU6JMPV8WCr4DnquKqkNcGqv24YGgnSLu6LHotkaZKzDVbHc10aK1dpWuirlZK/aiKiKd3AAAAAAAAAAADM73twlR4yB0qHsXUbgKJ/zHTvPXve3CVHjIHSoexdRuAon/ADHTvA0QAAAAAAAAAAAAAOoWytdJ2Ypndnp3WajYslJdNt0SJ6k/upjtqexau1dMsxTHzk47F64pAgovfxX+ZPMieVfIdPsdZmoVCf11WkblT0VEWUllTvZWF4UwRfA7b2vN5dsDw2EsLNQJyJaS0C91q0y5YjWO20gZX/Vhtf5U2jXQAAAAAAAAAAAAAAAThe3u5sxxcHplKPJwvb3c2Y4uD0ygUeAAAAAAAAAAAAAAGbW2trFpkWDRaND+k1qbVGwobcFSDlf33/b5URfWu0B6VvbUzro7LL0BFi1WbTJiuYv7PDcm2qr5HKn8k2zsFiLFSFlKd3KGqRJuKiLMzGG25U/ut8zU8iH7Yyx8CzspEiRon0ipTK5c5NO23Pcu2rUVdvJRf5+E7qAAAAAAAAAAAAAAAABN92PjPtTxc7+ZYUgTfdj4z7U8XO/mWFIAAAAAAAAAAAAAPz7wP0AARhebS4dGtrPJKJ3JkRWTMNG7WQr0xXDDwd8iqnmKusnU4tVs1SJ6MuMWNKsWIvneiYOX71Qle8ufbXLdTUORRY2QsKVhZG3lvbtKiefvlVEKvs7S1pNCpdPVUV0vLQ4blTwK5E75f5gc0AAAAAAAAAAAAA6JeZuFrvEs6Rpw1ze4iX9pjfEczeZuFrvEs6Rpw1ze4iX9pjfEBqgAAAAAAAAAAAAAAAI0u0d/+RaUvnjTH9YTyyyLLtIia/qK/wA8aL/WG5C0wAAAAAAAAAAAAAATffz+1We4uY/FhSBN9/P7VZ7i5j8WAUgAAAAAAAAAAAAAAADHr7lwsfA+2owvgeetcYv/AHXqCf8AqT+iYeW/F2FkZNPPU4Sf/wDOIp6txTkWztUb5qgq/wA4beoDbwAAAAAAAAAAAAAAAThZTxz1zjJz8SjycLKeOeucZOfiUeAAAAAAAAAAAAAACWr9F/7yU1P/AE5OkeVKStfm7G1VPb5qYxf5xXgUHYxcbIWd92S3RodmOq2HcjrHWeVOD4KfybgdqAAAAAAAAAAAAAAOrW43H2h93R/gU6DcbuSnvesXooZ363G4+0Pu6P8AAp0G43clPe9YvRQwNnAAAAAAAAAAAAAAABGl2jv/AMi0pfPGmP6wnllkWXaRE1/UV/njRf6w3IWmAAAAAAAAAAAAAADAL+f2KgcdH+Fpv5gF/P7FQOOj/C0Db6R9VU/2WF8KHIHH0j6qp/ssL4UOQAAAAAAAAAAAAAAOg3oLhYOucXC6VpmNwi/2lo0/yyv4xDSr1XI2wNbX7ICfzjMQzC4V2E1aBvnhS6/yV3WBSIAAAAAAAAAAAAAAAJvl/H27jIn5NSkCb5fx9u4yJ+TUpAAAAAAAAAAAAAAAEtX6L/3kpqf+nJ0jypSVr83Y2qp7fNTGL/OK8Cg7GLjZCzvuyW6NDsx1Ww7kdY6zypwfBT+TcDtQAAAAAAAAAAAAABw9ofqCsewzHRqdG1Nf1FX/AG2H8B3m0P1BWPYZjo1Ojamv6ir/ALbD+ACkwABJV/m7myfEQ+mNzMMv83c2T4iH0xuYAAAAAAAAAAAZ7eHRLS1WSpzqFHhw5iUmvpG2/IermtVqI1cFT+8uKLtKcDT7c21kobYFbsVPxYrcEWPJsV6Ow8uS3FMfUpsAAyGo2ut3U4LpehWRnJWI9MPpM5kw8hF8qNfgmPrVfUenY+6dJKf/AEvaCZZOTvdFithJi6GkRVxy3q5EVzsdvzYm1AAAAAAAAAAAAAAAzO97cJUeMgdKh7F1G4Cif8x07z173twlR4yB0qHsXUbgKJ/zHTvA0QAAAAAAAAAAD1J6PHl5OPGgSrpiKxiqyC1zWq93kbi7BEx857YAlKuWSvVrtY/Sk1S1SM16LBakeCjYSNXFrWIr/An9TkP0Pfn/AObOc7gdsp0AS86iX4u8Mae+6dgp+DzlLL0K9SDaSlxqvEqTpNkdFjI+dR7MMPK1HrimPkwKNAAAAAAAAAAAAAAAJwvb3c2Y4uD0ylHk4Xt7ubMcXB6ZQKPAAAAAAAAAAAAAdYtZOWilqW5KDTvpU7EXJaquY1sJMP11y1TFU8iE3ylh72JWoRqjLykZk3FysuP9JgZbspcV21f5StwBMP6Hvz/82c53A7Z4olBvwem3GqH/ALZ6En4PKjAGOXZ0q3MjUKi+0bp1zHQGpBWPNJHaio7bwRHOwX7TYwAAAAAAAAAAAAAACb7sfGfani538ywpAm+7Hxn2p4ud/MsKQAAAAAAAAAAAAZbb+jW0majSapZ2LDR8lDiJ3PLRr3rFVMUwd3qtVGptKpqQAyWTt/aiDDSHVbDVTuzU758pDdEY5fOiL4P5qenVq/eNXoKylEs3HprH97Empp7WREavmR2GT60xXzGzADJrCXXSdnIrZ+eismqgid6qJ/ZQcfDkY7ar/mX+RrIAAAAAAAAAAAAAAB0S8zcLXeJZ0jThrm9xEv7TG+I5m8zcLXeJZ0jThrm9xEv7TG+IDVAAAAAAAAAAAAAA8Mxl9wjdzTF+Q7JTzrhtHmAErWNu6trS7UUeemqSsOBCmGuiP7tBdktVMFXBrlXylUgAAAAAAAAAAAAAAAm+/n9qs9xcx+LCkCb7+f2qz3FzH4sApAAAAAAAAAAAAAAAAGWXsWerdfoshKUuU7vEZOJEe3LYzBqMcmOL1Tznr3S2brtn5CqQKrJ9wdEjsfDTLY/KTJwXbYrjWwAAAAAAAAAAAAAAAABOFlPHPXOMnPxKPJwsp4565xk5+JR4AAAAAAAAAAAAAAJ5vRsRaqv2lhzdNpvdoDJOHDy+6wmd8jnOVMHuRfKUMAOr2LkJ2n2WpEnOwe5TEGBkRGYo7JVFXytVUO0AAAAAAAAAAAAAAAHVrcbj7Q+7o/wKdBuN3JT3vWL0UM79bjcfaH3dH+BToNxu5Ke96xeihgbOAAAAAAAAAAAAAHhmMvuEbuaYvyHZKedcNo8wAlaxt3VtaXaijz01SVhwIUw10R/doLslqpgq4Ncq+UqkAAAAAAAAAAAAAAAGAX8/sVA46P8AC038wC/n9ioHHR/haBt9I+qqf7LC+FDkDj6R9VU/2WF8KHIAAAAAAAAAAAAAAHRbx6TU6xZKdkKdLrGmIsSDgzKazFGxEcu25UTawOiXTWQtLZ6pVN9Up/cIcaXajHd0hvxc12OHeOdh4TdQAAAAAAAAAAAAAAAABN8v4+3cZE/JqUgTfL+Pt3GRPyalIAAAAAAAAAAAAAAAnm9GxFqq/aWHN02m92gMk4cPL7rCZ3yOc5Uwe5F8pQwA6vYuQnafZakSc7B7lMQYGREZijslUVfK1VQ7QAAAAAAAAAAAAAAAcPaH6grHsMx0anRtTX9RV/22H8B3m0P1BWPYZjo1Ojamv6ir/tsP4AKTAAElX+bubJ8RD6Y3Mwy/zdzZPiIfTG5gAAAAAAAAAAAAAAAAAAAAAAAAAAAAAGZ3vbhKjxkDpUPYuo3AUT/mOneeve9uEqPGQOlQ9i6jcBRP+Y6d4GiAAAAAAAAAAAAAAAAAAAAAAAAAAAAAAAAE4Xt7ubMcXB6ZSjycL293NmOLg9MoFHgAAAAAAAAAAAAAAAAAAAAAAAAAAAAAAAAACb7sfGfani538ywpAm+7Hxn2p4ud/MsKQAAAAAAAAAAAAAAAAAAAAAAAAAAAAAAAAA6JeZuFrvEs6Rpw1ze4iX9pjfEczeZuFrvEs6Rpw1ze4iX9pjfEBqgAAAAAAAAAAAAAAAAAAAAAAAAAAAAAAABN9/P7VZ7i5j8WFIE338/tVnuLmPxYBSAAAAAAAAAAAAAAAAAAAAAAAAAAAAAAAAAAAnCynjnrnGTn4lHk4WU8c9c4yc/Eo8AAAAAAAAAAAAAAAAAAAAAAAAAAAAAAAADq1uNx9ofd0f4FOg3G7kp73rF6KGd+txuPtD7uj/Ap0G43clPe9YvRQwNnAAAAAAAAAAAAAAAAAAAAAAAAAAAAAAAAMAv5/YqBx0f4Wm/mAX8/sVA46P8AC0Db6R9VU/2WF8KHIHH0j6qp/ssL4UOQAAAAAAAAAAAAAAAAAAAAAAAAAAAAAAAAAm+X8fbuMifk1KQJvl/H27jIn5NSkAAAAAAAAAAAAAAAAAAAAAAAAAAAAAAAAAOHtD9QVj2GY6NTo2pr+oq/7bD+A7zaH6grHsMx0anRtTX9RV/22H8AFJgACSr/ADdzZPiIfTG5mGX+bubJ8RD6Y3MAAAAAAAAAAAAAAAAAAAAAAAAAAAAAAzO97cJUeMgdKh7F1G4Cif8AMdO89e97cJUeMgdKh7F1G4Cif8x07wNEAAAAAAAAAAAAAAAAAAAAAAAAAAAAAAAAJwvb3c2Y4uD0ylHk4Xt7ubMcXB6ZQKPAAAAAAAAAAAAAAAAAAAAAAAAAAAAAAAAAAE33Y+M+1PFzv5lhSBN92PjPtTxc7+ZYUgAAAAAAAAAAAAAAAAAAAAAAAAAAAAAAAAB0S8zcLXeJZ0jThrm9xEv7TG+I5m8zcLXeJZ0jThrm9xEv7TG+IDVAAAAAAAAAAAAAAAAAAAAAAAAAAAAAAAACb7+f2qz3FzH4sKQJvv5/arPcXMfiwCkAAAAAAAAAAAAAAAAAAAAAAAAAAAAAAAAAABOFlPHPXOMnPxKPJwsp4565xk5+JR4AAAAAAAAAAAAAAAAAAAAAAAAAAAAAAAAHVrcbj7Q+7o/wKdBuN3JT3vWL0UM79bjcfaH3dH+BToNxu5Ke96xeihgbOAAAAAAAAAAAAAAAAAAAAAAAAAAAAAAAAYBfz+xUDjo/wtN/MAv5/YqBx0f4WgbfSPqqn+ywvhQ5A4+kfVVP9lhfChyAAAAAAAAAAAAAAAAAAAAAAAAAAAAAAAAAE3y/j7dxkT8mpSBN8v4+3cZE/JqUgAAAAAAAAAAAAAAAAAAAAAAAAAAAAAAAABw9ofqCsewzHRqdG1Nf1FX/AG2H8B3m0P1BWPYZjo1Ojamv6ir/ALbD+ACkwABJV/m7myfEQ+mNzMMv83c2T4iH0xuYAAAAAAAAAAAAAAAAAAAAAAAAAAAAABmd724So8ZA6VD2LqNwFE/5jp3nr3vbhKjxkDpUPYuo3AUT/mOneBogAAAAAAAAAAAAAAAAAAAAAAAAAAAAAAABOF7e7mzHFwemUo8nC9vdzZji4PTKBR4AAAAAAAAAAAAAAAAAAAAAAAAAAAAAAAAAAm+7Hxn2p4ud/MsKQJvux8Z9qeLnfzLCkAAAAAAAAAAAAAAAAAAAAAAAAAAAAAAAAAOiXmbha7xLOkacNc3uIl/aY3xHM3mbha7xLOkacNc3uIl/aY3xAaoAAAAAAAAAAAAAAAAAAAAAAAAAAAAAAAATffz+1We4uY/FhSBN9/P7VZ7i5j8WAUgAAAAAAAAAAAAAAAAAAAAAAAAAAAAAAAAAAJwsp4565xk5+JR5OFlPHPXOMnPxKPAAAAAAAAAAAAAAAAAAAAAAAAAAAAAAAAA6tbjcfaH3dH+BToNxu5Ke96xeihnfrcbj7Q+7o/wKdBuN3JT3vWL0UMDZwAAAAAAAAAAAAAAAAAAAAAAAAAAAAAAADAL+f2KgcdH+Fpv5gF/P7FQOOj/C0Db6R9VU/wBlhfChyBx9I+qqf7LC+FDkAAAAAAAAAAAAAAAAAAAAAAAAAAAAAAAAAJvl/H27jIn5NSkCb5fx9u4yJ+TUpAAAAAAAAAAAAAAAAAAAAAAAAAAAAAAAAADh7Q/UFY9hmOjU6Nqa/qKv+2w/gO82h+oKx7DMdGp0bU1/UVf9th/ABSYAAmm+ewltbR2npU9Q6d3eDLyTG5fdoMPJipFc7wRHNVdrA6pre1RG9ictJ9YADW9qiN7E5aT6xre1RG9ictJ9YADW9qiN7E5aT6xre1RG9ictJ9YADW9qiN7E5aT6xre1RG9ictJ9YADW9qiN7E5aT6xre1RG9ictJ9YADW9qiN7E5aT6xre1RG9ictJ9YADW9qiN7E5aT6xre1RG9ictJ9YADW9qiN7E5aT6xre1RG9ictJ9YADW9qiN7E5aT6xre1RG9ictJ9YADW9qiN7E5aT6xre1RG9ictJ9YADW9qiN7E5aT6xre1RG9ictJ9YADW9qiN7E5aT6xre1RG9ictJ9YAHHVWxN+9WkoknPyr48B6tV0NY8omKtXFPA5F2lQ/ql2Lv5pUjBkpGWfBl4WVkQ0jyio3Kcrl8Ll8KriAB7+t7VEb2Jy0n1jW9qiN7E5aT6wAGt7VEb2Jy0n1jW9qiN7E5aT6wAGt7VEb2Jy0n1jW9qiN7E5aT6wAGt7VEb2Jy0n1jW9qiN7E5aT6wAGt7VEb2Jy0n1jW9qiN7E5aT6wAGt7VEb2Jy0n1jW9qiN7E5aT6wAGt7VEb2Jy0n1jW9qiN7E5aT6wAGt7VEb2Jy0n1jW9qiN7E5aT6wAGt7VEb2Jy0n1jW9qiN7E5aT6wAGt7VEb2Jy0n1jW9qiN7E5aT6wAGt7VEb2Jy0n1jW9qiN7E5aT6wAGt7VEb2Jy0n1jW9qiN7E5aT6wAGt7VEb2Jy0n1nX6rdtfVVp2XnJ6mujx4CIkKIszKpk5LspNpHp5QAOwa3tURvYnLSfWNb2qI3sTlpPrAAa3tURvYnLSfWNb2qI3sTlpPrAAa3tURvYnLSfWNb2qI3sTlpPrAAa3tURvYnLSfWNb2qI3sTlpPrAAa3tURvYnLSfWNb2qI3sTlpPrAAa3tURvYnLSfWNb2qI3sTlpPrAAa3tURvYnLSfWNb2qI3sTlpPrAAa3tURvYnLSfWNb2qI3sTlpPrAAa3tURvYnLSfWNb2qI3sTlpPrAAa3tURvYnLSfWNb2qI3sTlpPrAAa3tURvYnLSfWNb2qI3sTlpPrAAa3tURvYnLSfWNb2qI3sTlpPrAAa3tURvYnLSfWNb2qI3sTlpPrAA69Tbt76qbUpmoydNdBmo6PSLFSYlVV2W5Hu2leqbapidh1vaojexOWk+sABre1RG9ictJ9Y1vaojexOWk+sABre1RG9ictJ9Y1vaojexOWk+sABre1RG9ictJ9Y1vaojexOWk+sABre1RG9ictJ9Y1vaojexOWk+sABre1RG9ictJ9Y1vaojexOWk+sABre1RG9ictJ9Y1vaojexOWk+sABre1RG9ictJ9Y1vaojexOWk+sABre1RG9ictJ9Y1vaojexOWk+sABre1RG9ictJ9Y1vaojexOWk+sABre1RG9ictJ9Y1vaojexOWk+sABre1RG9ictJ9Y1vaojexOWk+sABre1RG9ictJ9Y1vaojexOWk+sAD0qlY6/upSUaTnJd8aBFREfDWPKJlIi4+FHJ5UPDSLD37UeSSUp8o+BARyuSGkxKLtu8K4q5fCAByet7VEb2Jy0n1jW9qiN7E5aT6wAGt7VEb2Jy0n1jW9qiN7E5aT6wAGt7VEb2Jy0n1jW9qiN7E5aT6wAGt7VEb2Jy0n1jW9qiN7E5aT6wAGt7VEb2Jy0n1jW9qiN7E5aT6wAGt7VEb2Jy0n1jW9qiN7E5aT6wAGt7VEb2Jy0n1jW9qiN7E5aT6wAGt7VEb2Jy0n1jW9qiN7E5aT6wAGt7VEb2Jy0n1jW9qiN7E5aT6wAGt7VEb2Jy0n1jW9qiN7E5aT6wAGt7VEb2Jy0n1jW9qiN7E5aT6wAGt7VEb2Jy0n1jW9qiN7E5aT6wAGt7VEb2Jy0n1nX65dtfVXXQHVOmumVgo5IarMSrcnKwx/VenhwAA7Bre1RG9ictJ9Y1vaojexOWk+sABre1RG9ictJ9Y1vaojexOWk+sABre1RG9ictJ9Y1vaojexOWk+sABre1RG9ictJ9Y1vaojexOWk+sABre1RG9ictJ9Y1vaojexOWk+sABre1RG9ictJ9Y1vaojexOWk+sABre1RG9ictJ9Y1vaojexOWk+sABre1RG9ictJ9Y1vaojexOWk+sABre1RG9ictJ9Y1vaojexOWk+sABre1RG9ictJ9Y1vaojexOWk+sABre1RG9ictJ9Y1vaojexOWk+sABre1RG9ictJ9Y1vaojexOWk+sABre1RG9ictJ9Y1vaojexOWk+sADr8rdtfVK1eNVYFNcydiq9Xx/pEqqrl+Hay8Nv1HYNb2qI3sTlpPrAAa3tURvYnLSfWNb2qI3sTlpPrAAa3tURvYnLSfWNb2qI3sTlpPrAAa3tURvYnLSfWNb2qI3sTlpPrAAa3tURvYnLSfWNb2qI3sTlpPrAAa3tURvYnLSfWNb2qI3sTlpPrAAa3tURvYnLSfWNb2qI3sTlpPrAAa3tURvYnLSfWNb2qI3sTlpPrAAa3tURvYnLSfWNb2qI3sTlpPrAAa3tURvYnLSfWNb2qI3sTlpPrAAa3tURvYnLSfWNb2qI3sTlpPrAAa3tURvYnLSfWNb2qI3sTlpPrAAa3tURvYnLSfWNb2qI3sTlpPrAA9acsnf/OykeVmYL4kGNDcyIxY8mmU1yYKm05PCejRbBX5USVfLU2SfLwXRViOYkxKLi5URFXbcvkRAAOX1vaojexOWk+sa3tURvYnLSfWAA1vaojexOWk+sa3tURvYnLSfWAA1vaojexOWk+sa3tURvYnLSfWAA1vaojexOWk+sa3tURvYnLSfWAA1vaojexOWk+sa3tURvYnLSfWAA1vaojexOWk+sa3tURvYnLSfWAA1vaojexOWk+sa3tURvYnLSfWAA1vaojexOWk+sa3tURvYnLSfWAA1vaojexOWk+sa3tURvYnLSfWAA1vaojexOWk+sa3tURvYnLSfWAA1vaojexOWk+sa3tURvYnLSfWAA1vaojexOWk+sa3tURvYnLSfWAA1vaojexOWk+s4KuXd3211kBlTp7plsJXLDRZiUbkq7w/qvTw4AAczCs1qhIUKHDhw4jWMajWp3eT2kRMET9Y8mt7VEb2Jy0n1gANb2qI3sTlpPrGt7VEb2Jy0n1gANb2qI3sTlpPrGt7VEb2Jy0n1gANb2qI3sTlpPrGt7VEb2Jy0n1gANb2qI3sTlpPrGt7VEb2Jy0n1gANb2qI3sTlpPrGt7VEb2Jy0n1gANb2qI3sTlpPrGt7VEb2Jy0n1gANb2qI3sTlpPrGt7VEb2Jy0n1gANb2qI3sTlpPrGt7VEb2Jy0n1gANb2qI3sTlpPrGt7VEb2Jy0n1gANb2qI3sTlpPrGt7VEb2Jy0n1gANb2qI3sTlpPrGt7VEb2Jy0n1gANb2qI3sTlpPrGt7VEb2Jy0n1gAdfbdvfU2uLWkprkn8VX6R9IlMdtnc12svD9Xa8B2DW9qiN7E5aT6wAGt7VEb2Jy0n1jW9qiN7E5aT6wAGt7VEb2Jy0n1jW9qiN7E5aT6wAGt7VEb2Jy0n1jW9qiN7E5aT6wAGt7VEb2Jy0n1jW9qiN7E5aT6wAGt7VEb2Jy0n1jW9qiN7E5aT6wAGt7VEb2Jy0n1jW9qiN7E5aT6wAGt7VEb2Jy0n1jW9qiN7E5aT6wAGt7VEb2Jy0n1jW9qiN7E5aT6wAGt7VEb2Jy0n1jW9qiN7E5aT6wAGt7VEb2Jy0n1jW9qiN7E5aT6wAGt7VEb2Jy0n1jW9qiN7E5aT6wAGt7VEb2Jy0n1jW9qiN7E5aT6wAPDMWX1QcxAjQIsKI6HEhuY9vd5Pba5MFT9bympXH2PtPZeQrcCtyP0bu8eC+C3usOJjg1Ucv9m52Hk8IAG6gAD//2Q==)"
      ]
    },
    {
      "cell_type": "code",
      "source": [
        "# @title 🧩 Choosing the Right Data Structure\n",
        "# @markdown We want to build a **frequency map** that keeps track of how many times each k-mer appears in DNA.\n",
        "# @markdown Each k-mer (like \"ATG\" or \"GCA\") should be stored **alongside its count**.\n",
        "# @markdown\n",
        "# @markdown Which data structure in Python is best suited for this task?\n",
        "\n",
        "choice = \"Dictionary (hash map)\"  # @param [\"List\", \"Set\", \"Dictionary (hash map)\", \"Tuple\"]\n",
        "\n",
        "if choice == \"Dictionary (hash map)\":\n",
        "    print(\"✅ Correct! A dictionary maps keys (k-mers) to values (counts) efficiently, with average O(1) lookup and update time.\")\n",
        "    print(\"We'll use it to store k-mer → count pairs in our FrequencyTable function.\")\n",
        "else:\n",
        "    print(\"❌ Not quite.\")\n",
        "    print(\"Lists and tuples don't directly map keys to values, and sets only store unique items without counts.\")\n",
        "    print(\"A dictionary (hash map) is ideal for storing and updating k-mer counts.\")\n"
      ],
      "metadata": {
        "cellView": "form",
        "id": "RHg8Ub81G8H3"
      },
      "id": "RHg8Ub81G8H3",
      "execution_count": null,
      "outputs": []
    },
    {
      "cell_type": "markdown",
      "id": "fee8f653",
      "metadata": {
        "id": "fee8f653"
      },
      "source": [
        "\n",
        "\n",
        "### Exercise 2\n",
        "\n",
        "Implement the FrequencyTable function using pseudocode provided:\n",
        "\n",
        "```\n",
        "FrequencyTable(DNA, k)\n",
        "    freqMap ← empty map\n",
        "    n ← |DNA|\n",
        "    for i ← 0 to n − k\n",
        "        Pattern ← DNA(i, k)\n",
        "        if freqMap[Pattern] doesn't exist\n",
        "            freqMap[Pattern]← 1\n",
        "        else\n",
        "           freqMap[pattern] ←freqMap[pattern]+1\n",
        "    return freqMap\n",
        "```"
      ]
    },
    {
      "cell_type": "code",
      "execution_count": null,
      "id": "272a6c20",
      "metadata": {
        "id": "272a6c20"
      },
      "outputs": [],
      "source": [
        "def FrequencyTable(DNA, k):\n",
        "    freqMap = ...          # initialize empty dictionary\n",
        "    n = len(DNA)\n",
        "    for i in range(...):   # slide the window across DNA\n",
        "        pattern = ...    # extract k-mer substring\n",
        "        if pattern not in freqMap:\n",
        "            freqMap[pattern] = 1\n",
        "        else:\n",
        "            freqMap[pattern] += 1\n",
        "    return freqMap"
      ]
    },
    {
      "cell_type": "code",
      "source": [
        "# @title ✅ Test Your FrequencyTable\n",
        "DNA = \"ACGTTTCACGTTTTACGG\"\n",
        "k = 3\n",
        "\n",
        "freqs = FrequencyTable(DNA, k)\n",
        "\n",
        "# Simple correctness checks\n",
        "assert freqs[\"ACG\"] == 2, \"ACG should appear twice\"\n",
        "assert freqs[\"TTT\"] == 2, \"TTT should appear twice\"\n",
        "assert freqs[\"TTC\"] == 1, \"TTC should appear once\"\n",
        "\n",
        "print(\"🎉 Great work! Your FrequencyTable correctly counts k-mer frequencies.\")\n",
        "print(\"Sample output:\")\n",
        "for kmer, count in list(freqs.items())[:5]:\n",
        "    print(f\"{kmer}: {count}\")\n"
      ],
      "metadata": {
        "collapsed": true,
        "id": "nY5q8F68HcK-",
        "outputId": "c21c7a85-6b3e-400b-f1af-6725cd6fa946",
        "colab": {
          "base_uri": "https://localhost:8080/",
          "height": 349
        }
      },
      "id": "nY5q8F68HcK-",
      "execution_count": null,
      "outputs": [
        {
          "output_type": "error",
          "ename": "TypeError",
          "evalue": "'ellipsis' object cannot be interpreted as an integer",
          "traceback": [
            "\u001b[0;31m---------------------------------------------------------------------------\u001b[0m",
            "\u001b[0;31mTypeError\u001b[0m                                 Traceback (most recent call last)",
            "\u001b[0;32m/tmp/ipython-input-484838899.py\u001b[0m in \u001b[0;36m<cell line: 0>\u001b[0;34m()\u001b[0m\n\u001b[1;32m      3\u001b[0m \u001b[0mk\u001b[0m \u001b[0;34m=\u001b[0m \u001b[0;36m3\u001b[0m\u001b[0;34m\u001b[0m\u001b[0;34m\u001b[0m\u001b[0m\n\u001b[1;32m      4\u001b[0m \u001b[0;34m\u001b[0m\u001b[0m\n\u001b[0;32m----> 5\u001b[0;31m \u001b[0mfreqs\u001b[0m \u001b[0;34m=\u001b[0m \u001b[0mFrequencyTable\u001b[0m\u001b[0;34m(\u001b[0m\u001b[0mDNA\u001b[0m\u001b[0;34m,\u001b[0m \u001b[0mk\u001b[0m\u001b[0;34m)\u001b[0m\u001b[0;34m\u001b[0m\u001b[0;34m\u001b[0m\u001b[0m\n\u001b[0m\u001b[1;32m      6\u001b[0m \u001b[0;34m\u001b[0m\u001b[0m\n\u001b[1;32m      7\u001b[0m \u001b[0;31m# Simple correctness checks\u001b[0m\u001b[0;34m\u001b[0m\u001b[0;34m\u001b[0m\u001b[0m\n",
            "\u001b[0;32m/tmp/ipython-input-2577215266.py\u001b[0m in \u001b[0;36mFrequencyTable\u001b[0;34m(DNA, k)\u001b[0m\n\u001b[1;32m      2\u001b[0m     \u001b[0mfreqMap\u001b[0m \u001b[0;34m=\u001b[0m \u001b[0;34m...\u001b[0m          \u001b[0;31m# initialize empty dictionary\u001b[0m\u001b[0;34m\u001b[0m\u001b[0;34m\u001b[0m\u001b[0m\n\u001b[1;32m      3\u001b[0m     \u001b[0mn\u001b[0m \u001b[0;34m=\u001b[0m \u001b[0mlen\u001b[0m\u001b[0;34m(\u001b[0m\u001b[0mDNA\u001b[0m\u001b[0;34m)\u001b[0m\u001b[0;34m\u001b[0m\u001b[0;34m\u001b[0m\u001b[0m\n\u001b[0;32m----> 4\u001b[0;31m     \u001b[0;32mfor\u001b[0m \u001b[0mi\u001b[0m \u001b[0;32min\u001b[0m \u001b[0mrange\u001b[0m\u001b[0;34m(\u001b[0m\u001b[0;34m...\u001b[0m\u001b[0;34m)\u001b[0m\u001b[0;34m:\u001b[0m   \u001b[0;31m# slide the window across DNA\u001b[0m\u001b[0;34m\u001b[0m\u001b[0;34m\u001b[0m\u001b[0m\n\u001b[0m\u001b[1;32m      5\u001b[0m         \u001b[0mpattern\u001b[0m \u001b[0;34m=\u001b[0m \u001b[0;34m...\u001b[0m    \u001b[0;31m# extract k-mer substring\u001b[0m\u001b[0;34m\u001b[0m\u001b[0;34m\u001b[0m\u001b[0m\n\u001b[1;32m      6\u001b[0m         \u001b[0;32mif\u001b[0m \u001b[0mpattern\u001b[0m \u001b[0;32mnot\u001b[0m \u001b[0;32min\u001b[0m \u001b[0mfreqMap\u001b[0m\u001b[0;34m:\u001b[0m\u001b[0;34m\u001b[0m\u001b[0;34m\u001b[0m\u001b[0m\n",
            "\u001b[0;31mTypeError\u001b[0m: 'ellipsis' object cannot be interpreted as an integer"
          ]
        }
      ]
    },
    {
      "cell_type": "markdown",
      "id": "c7fc4902",
      "metadata": {
        "id": "c7fc4902"
      },
      "source": [
        "Once we have built the frequency table for a given `DNA` and `k`, we can find all frequent k-mers if we determine the maximum value in the table, and then identify the keys of the frequency table achieving this value, appending each one that we find to a growing list.\n",
        "\n",
        "Last helper function that we'll need for our `FrequentWords` function is `MaxMap`, that takes a map (dictionary) of strings to integers as an input and returns the maximum value of this map as output."
      ]
    },
    {
      "cell_type": "markdown",
      "id": "361a8868",
      "metadata": {
        "id": "361a8868"
      },
      "source": [
        "### Exercise 3\n",
        "\n",
        "Using basic operations with dictionaries in Python, write the function `MaxMap`, that should take in the dictionary `freqMap` and return the maximum value of it."
      ]
    },
    {
      "cell_type": "code",
      "execution_count": null,
      "id": "45cb1e53",
      "metadata": {
        "id": "45cb1e53"
      },
      "outputs": [],
      "source": [
        "def MaxMap(freqMap):\n",
        "    pass"
      ]
    },
    {
      "cell_type": "markdown",
      "id": "dab49eba",
      "metadata": {
        "id": "dab49eba"
      },
      "source": [
        "Now, we're finally ready to solve the **Most Frequent Words** Problem.\n",
        "\n",
        "### Exercise 4\n",
        "\n",
        "Implement the `FrequentWords` function using the pseudocode below:\n",
        "\n",
        "```\n",
        "FrequentWords(DNA, k)\n",
        "    FrequentPatterns ← an array of strings of length 0\n",
        "    freqMap ← FrequencyTable(DNA, k)\n",
        "    max ← MaxMap(freqMap)\n",
        "    for all strings Pattern in freqMap\n",
        "        if freqMap[pattern] = max\n",
        "            append Pattern to frequentPatterns\n",
        "    return frequentPatterns\n",
        "```\n",
        "\n",
        "\n",
        "\n",
        "Input: A string `DNA` and an integer `k`.\n",
        "Output: All most frequent k-mers in `DNA`.\n"
      ]
    },
    {
      "cell_type": "code",
      "execution_count": null,
      "id": "afbe18da",
      "metadata": {
        "id": "afbe18da"
      },
      "outputs": [],
      "source": [
        "def FrequentWords(DNA, k):\n",
        "    # Build the frequency table for all k-mers\n",
        "    freqMap = FrequencyTable(...)\n",
        "\n",
        "    # Find the maximum frequency value\n",
        "    max_count = MaxMap(...)\n",
        "\n",
        "    frequentPatterns = []\n",
        "    for pattern in freqMap:\n",
        "        # Add a condition to check if this pattern is one of the most frequent\n",
        "        if ...:\n",
        "            frequentPatterns.append(pattern)\n",
        "\n",
        "    return frequentPatterns"
      ]
    },
    {
      "cell_type": "code",
      "execution_count": null,
      "id": "c8666025",
      "metadata": {
        "id": "c8666025"
      },
      "outputs": [],
      "source": [
        "# @title ✅ Test Your FrequentWords Function\n",
        "DNA = 'ACGTTGCATGTCGCATGATGCATGAGAGCT'\n",
        "k = 4\n",
        "\n",
        "result = FrequentWords(DNA, k)\n",
        "print(\"Most frequent 4-mers:\", result)\n",
        "\n",
        "assert set(result) == {'CATG', 'GCAT'}, f\"Unexpected result: {result}\"\n",
        "print(\"🎉 Great job! Your FrequentWords implementation works correctly.\")\n"
      ]
    },
    {
      "cell_type": "markdown",
      "source": [
        "## Exercise 5\n",
        "\n",
        "Let's imagine that our collaborators from Mars sequences some Marsian bacteria and found their ori sequence to be `ori`.\n",
        "\n",
        "Let's use our `FrequentWords` function to find most frequent 9-mer inside that sequence."
      ],
      "metadata": {
        "id": "EwLYfCwQTVzZ"
      },
      "id": "EwLYfCwQTVzZ"
    },
    {
      "cell_type": "code",
      "source": [
        "ori = \"atcaatgatcaacgtaagcttctaagcatgatcaaggtgctcacacagtttatccacaacctgagtggatgacatcaagataggtcgttgtatctccttcctctcgtactctcatgaccacggaaagatgatcaagagaggatgatttcttggccatatcgcaatgaatacttgtgacttgtgcttccaattgacatcttcagcgccatattgcgctggccaaggtgacggagcgggattacgaaagcatgatcatggctgttgttctgtttatcttgttttgactgagacttgttaggatagacggtttttcatcactgactagccaaagccttactctgcctgacatcgaccgtaaatgataatgaatttacatgcttccgcgacgatttacctcttgatcatcgatccgattgaagatcttcaattgttaattctcttgcctcgactcatagccatgatgagctcttgatcatgtttccttaaccctctattttttacggaagaatgatcaagctgctgctcttgatcatcgtttc\"\n",
        "k = 9\n",
        "\n",
        "def FrequentWords(DNA, k):\n",
        "  ...\n",
        "  return ...\n",
        "\n",
        "print(FrequentWords(DNA, k))\n"
      ],
      "metadata": {
        "id": "hY10KO56TIYN"
      },
      "id": "hY10KO56TIYN",
      "execution_count": null,
      "outputs": []
    },
    {
      "cell_type": "markdown",
      "source": [
        "## Why did we choose k to be 9?\n",
        "\n",
        "We know that the initiation of replication is mediated by DnaA, a protein that binds to a short segment within the ori known as a DnaA box. You can think of the DnaA box as a message within the DNA sequence telling the DnaA protein: “bind here!”.\n",
        "\n",
        "We highlight a most frequent 9-mer instead of using some other value of k because experiments have revealed that bacterial DnaA boxes are usually nine nucleotides long. The probability that there exists a 9-mer appearing three or more times in a randomly generated DNA string of length 500 is approximately 1/1300."
      ],
      "metadata": {
        "id": "0oRfzWv7UQHN"
      },
      "id": "0oRfzWv7UQHN"
    },
    {
      "cell_type": "code",
      "source": [
        "# @title 🧬 How many most frequent 9-mers do we have in this ori region?\n",
        "# @markdown Using your `FrequentWords` (or frequency table) function, you found the most frequent 9-mers in the given `ori` DNA sequence.\n",
        "# @markdown\n",
        "# @markdown\n",
        "# @markdown Based on your result, how many of them are there?\n",
        "\n",
        "choice = 4  # @param [1, 2, 3, 4]\n",
        "\n",
        "if choice == 4:\n",
        "    print(\"✅ Correct! There are 4 distinct 9-mers that each occur at least three times.\")\n",
        "    print(\"These repeats suggest a potential biological significance — for example, in replication origin motifs.\")\n",
        "else:\n",
        "    print(\"❌ Not quite.\")\n",
        "    print(\"Check your frequency table — there are *four* 9-mers that each appear three or more times: ATGATCAAG, CTTGATCAT, TCTTGATCA, and CTCTTGATC.\")\n"
      ],
      "metadata": {
        "cellView": "form",
        "id": "WlZrwGNLUlMf"
      },
      "id": "WlZrwGNLUlMf",
      "execution_count": null,
      "outputs": []
    },
    {
      "cell_type": "markdown",
      "source": [
        "## Some messages are more surprising than others...\n",
        "\n",
        "Isn't it weird that we have 4 different 9-mers in that `ori`?\n",
        "\n",
        "How would we know which one is actually the right one? Are all the 'hidden messages' the same or are some more surprising than others?"
      ],
      "metadata": {
        "id": "f6AGGf4HW-n8"
      },
      "id": "f6AGGf4HW-n8"
    },
    {
      "cell_type": "markdown",
      "source": [
        "## Reverse Complementarity\n",
        "\n",
        "Recall that nucleotides A and T are complements of each other, as are G and C. Having one strand and a supply of “free floating” nucleotides, one can imagine the synthesis of a complementary strand on a template strand. This model of replication was confirmed rigorously by Meselson and Stahl in 1958.\n",
        "\n",
        "![reverse_complement.png](data:image/png;base64,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)"
      ],
      "metadata": {
        "id": "XlLi4NSJYeyv"
      },
      "id": "XlLi4NSJYeyv"
    },
    {
      "cell_type": "markdown",
      "source": [
        "## Exercise 6 - Solve the reverse complement problem\n",
        "\n",
        "The reverse complement of a string Pattern = p1 … pn is the string Patternrc = pn* … p1* formed by taking the complement of each nucleotide in Pattern, then reversing the resulting string. We will need the solution to the following problem throughout this chapter:\n",
        "\n",
        "Reverse Complement Problem: Find the reverse complement of a DNA string.\n",
        "\n",
        "    Input: A DNA string Pattern.\n",
        "    Output: Patternrc , the reverse complement of Pattern.\n"
      ],
      "metadata": {
        "id": "LBEv2TpEZQWm"
      },
      "id": "LBEv2TpEZQWm"
    },
    {
      "cell_type": "code",
      "source": [
        "def ReverseComplement(pattern):\n",
        "  ...\n",
        "  return patternrc"
      ],
      "metadata": {
        "id": "gbLSWdRYZO-0"
      },
      "id": "gbLSWdRYZO-0",
      "execution_count": null,
      "outputs": []
    },
    {
      "cell_type": "code",
      "source": [
        "# @title ✅ Check Your ReverseComplement Function\n",
        "\n",
        "try:\n",
        "    assert ReverseComplement(\"AAAACCCGGT\") == \"ACCGGGTTTT\"\n",
        "    assert ReverseComplement(\"ATGC\") == \"GCAT\"\n",
        "    assert ReverseComplement(\"A\") == \"T\"\n",
        "    assert ReverseComplement(\"GGATCC\") == \"GGATCC\"  # palindrome check\n",
        "    print(\"🎉 All tests passed! Your ReverseComplement function works correctly.\")\n",
        "except AssertionError:\n",
        "    print(\"❌ One or more tests failed.\")\n",
        "    print(\"Hint: Make sure you first complement each base (A↔T, C↔G) and then reverse the entire string.\")\n"
      ],
      "metadata": {
        "id": "B9u1v2kRb1WM",
        "cellView": "form"
      },
      "id": "B9u1v2kRb1WM",
      "execution_count": null,
      "outputs": []
    },
    {
      "cell_type": "markdown",
      "source": [
        "Look again at the four most frequent 9-mers in the ori sequence we have: ATGATCAAG, CTTGATCAT, TCTTGATCA, and CTCTTGATC. Now do you notice anything surprising?"
      ],
      "metadata": {
        "id": "ZIUu1GTCZgcb"
      },
      "id": "ZIUu1GTCZgcb"
    },
    {
      "cell_type": "markdown",
      "source": [
        "Interestingly, among the four most frequent 9-mers in ori of Vibrio cholerae, ATGATCAAG and CTTGATCAT are reverse complements of each other, resulting in the six total occurrences of these strings shown below.\n",
        "\n",
        "atcaatgatcaacgtaagcttctaagc**ATGATCAAG**gtgctcacacagtttatccacaac ctgagtggatgacatcaagataggtcgttgtatctccttcctctcgtactctcatgacca cggaaag**ATGATCAAG**agaggatgatttcttggccatatcgcaatgaatacttgtgactt gtgcttccaattgacatcttcagcgccatattgcgctggccaaggtgacggagcgggatt acgaaagcatgatcatggctgttgttctgtttatcttgttttgactgagacttgttagga tagacggtttttcatcactgactagccaaagccttactctgcctgacatcgaccgtaaat tgataatgaatttacatgcttccgcgacgatttacct**CTTGATCAT**cgatccgattgaag atcttcaattgttaattctcttgcctcgactcatagccatgatgagct**CTTGATCAT**gtt tccttaaccctctattttttacggaaga**ATGATCAAG**ctgctgct**CTTGATCAT**cgtttc\n",
        "\n",
        "\n",
        "Finding a 9-mer that appears six times (either as itself or as its reverse complement) in a DNA string of length 500 is far more surprising than finding a 9-mer that appears three times (as itself)."
      ],
      "metadata": {
        "id": "FvJdXwdaZx-9"
      },
      "id": "FvJdXwdaZx-9"
    },
    {
      "cell_type": "code",
      "source": [
        "# @title What’s special about these two 9-mers?\n",
        "# @markdown Among the four most frequent 9-mers in the *ori* region of *Vibrio cholerae*,\n",
        "# @markdown **ATGATCAAG** and **CTTGATCAT** are **reverse complements** of each other.\n",
        "# @markdown Together, they occur six times in total across the region.\n",
        "# @markdown\n",
        "# @markdown What does this relationship between the two sequences suggest?\n",
        "# @markdown\n",
        "# @markdown _(Pick the best explanation.)_\n",
        "\n",
        "choice = \"They likely represent the same binding site on opposite strands\"  # @param [\"They’re unrelated repeats\", \"They likely represent the same binding site on opposite strands\", \"They occur together by random chance\"]\n",
        "\n",
        "if choice == \"They likely represent the same binding site on opposite strands\":\n",
        "    print(\"✅ Correct! Reverse complements often correspond to the **same functional motif** found on opposite DNA strands.\")\n",
        "    print(\"Here, ATGATCAAG and CTTGATCAT likely represent the same DnaA box sequence read in opposite directions.\")\n",
        "else:\n",
        "    print(\"❌ Not quite.\")\n",
        "    print(\"Because these two 9-mers are reverse complements, they’re not independent repeats.\")\n",
        "    print(\"They likely correspond to the same **biological binding site**—one on each strand of the double helix.\")\n"
      ],
      "metadata": {
        "cellView": "form",
        "id": "PC8Ri_r6bXbl"
      },
      "id": "PC8Ri_r6bXbl",
      "execution_count": null,
      "outputs": []
    },
    {
      "cell_type": "markdown",
      "source": [
        "However, before concluding that we have found the DnaA box of Vibrio cholerae, the careful bioinformatician should check if there are other short regions in the Vibrio cholerae genome exhibiting multiple occurrences of ATGATCAAG (or CTTGATCAT). After all, maybe these strings occur as repeats throughout the entire Vibrio cholerae genome, rather than just in the ori region. To this end, we need to solve the following problem.\n",
        "\n",
        "## Exercise 7 - Pattern Matching Problem:\n",
        "\n",
        "Find all occurrences of a pattern in a string. Note that this function is very similar to `PatternCount` function\n",
        "\n",
        "    Input: Strings Pattern and Genome.\n",
        "    Output: All starting positions in Genome where Pattern appears as a substring.\n"
      ],
      "metadata": {
        "id": "-zhfeCYpbWoB"
      },
      "id": "-zhfeCYpbWoB"
    },
    {
      "cell_type": "code",
      "source": [
        "def PatternMatching(DNA, pattern):\n",
        "  positions = []\n",
        "  k = len(pattern)\n",
        "  n = len(DNA)\n",
        "\n",
        "  for i in range(...):\n",
        "    if ...:\n",
        "      positions.append(...)\n",
        "  return positions"
      ],
      "metadata": {
        "id": "PhjchX1MaW0p"
      },
      "id": "PhjchX1MaW0p",
      "execution_count": null,
      "outputs": []
    },
    {
      "cell_type": "code",
      "source": [
        "# @title ✅ Check Your PatternMatching Function\n",
        "\n",
        "try:\n",
        "    # Test 1 — Example from textbook/Bioinformatics I\n",
        "    DNA = \"GATATATGCATATACTT\"\n",
        "    pattern = \"ATAT\"\n",
        "    assert PatternMatching(DNA, pattern) == [1, 3, 9]\n",
        "\n",
        "    # Test 2 — Overlapping matches\n",
        "    DNA = \"AAAAA\"\n",
        "    pattern = \"AA\"\n",
        "    assert PatternMatching(DNA, pattern) == [0, 1, 2, 3]\n",
        "\n",
        "    # Test 3 — No matches\n",
        "    DNA = \"GCGCGC\"\n",
        "    pattern = \"TTT\"\n",
        "    assert PatternMatching(DNA, pattern) == []\n",
        "\n",
        "    # Test 4 — Match at end\n",
        "    DNA = \"TTGACAT\"\n",
        "    pattern = \"CAT\"\n",
        "    assert PatternMatching(DNA, pattern) == [4]\n",
        "\n",
        "    print(\"🎉 All tests passed! Your PatternMatching function works correctly.\")\n",
        "except AssertionError:\n",
        "    print(\"❌ One or more tests failed.\")\n",
        "    print(\"Hint: Make sure your loop runs from i = 0 to n - k (inclusive) and checks whether DNA[i:i+k] == pattern.\")\n",
        "    print(\"The function should return a list of all valid starting indices (0-based).\")\n"
      ],
      "metadata": {
        "cellView": "form",
        "id": "eTREek-7cC5F"
      },
      "id": "eTREek-7cC5F",
      "execution_count": null,
      "outputs": []
    },
    {
      "cell_type": "markdown",
      "source": [
        "## Let's scale it up!\n",
        "\n",
        "Time to get our hands dirty and use our `PatternMatching` function on the whole genome of the bacterium Vibrio cholerae.\n",
        "\n",
        "Before coming to the next session,\n",
        "\n",
        "1) Try to write some code that would return a space-separated list of starting positions (in increasing order) where CTTGATCAT appears as a substring in the Vibrio cholerae genome. We'll start the next session with writing it together.\n",
        "\n",
        "2) Think whether that supports our hypothesis that CTTGATCAT and it's reverse complement is indeed the DNAa box.\n",
        "\n",
        "3) Think whether we can conclude that ATGATCAAG/CTTGATCAT also represents a DnaA box in other bacterial genomes?\n",
        "\n",
        "You can find the genome file in the Files section of the Teams channel and on the github page."
      ],
      "metadata": {
        "id": "2odStHnocLmE"
      },
      "id": "2odStHnocLmE"
    },
    {
      "cell_type": "code",
      "source": [],
      "metadata": {
        "id": "2LjkoBCydQ8v"
      },
      "id": "2LjkoBCydQ8v",
      "execution_count": null,
      "outputs": []
    }
  ],
  "metadata": {
    "kernelspec": {
      "display_name": "bioinf",
      "language": "python",
      "name": "python3"
    },
    "language_info": {
      "codemirror_mode": {
        "name": "ipython",
        "version": 3
      },
      "file_extension": ".py",
      "mimetype": "text/x-python",
      "name": "python",
      "nbconvert_exporter": "python",
      "pygments_lexer": "ipython3",
      "version": "3.12.2"
    },
    "colab": {
      "provenance": [],
      "include_colab_link": true
    }
  },
  "nbformat": 4,
  "nbformat_minor": 5
}